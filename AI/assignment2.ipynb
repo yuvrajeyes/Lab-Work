{
 "cells": [
  {
   "cell_type": "markdown",
   "metadata": {
    "_cell_guid": "b65113c0-1568-46f9-afb9-6cf7196c82e8",
    "_uuid": "17c2fd41-a923-45af-9843-581d78e0d4fe"
   },
   "source": [
    "#### Imports"
   ]
  },
  {
   "cell_type": "code",
   "execution_count": 1,
   "metadata": {
    "_cell_guid": "d2750526-a19c-4384-b104-8a5659e515e0",
    "_uuid": "b40302c0-0bc8-48b7-99a7-c67255480868",
    "collapsed": false,
    "jupyter": {
     "outputs_hidden": false
    }
   },
   "outputs": [],
   "source": [
    "import numpy as np \n",
    "import pandas as pd \n",
    "import matplotlib.pyplot as plt\n",
    "import seaborn as sns\n",
    "import plotly\n",
    "# import cufflinks\n",
    "# cufflinks.go_offline()\n",
    "import warnings\n",
    "warnings.filterwarnings('ignore')\n",
    "%matplotlib inline\n",
    "sns.set()"
   ]
  },
  {
   "cell_type": "markdown",
   "metadata": {},
   "source": [
    "## Information about the dataset"
   ]
  },
  {
   "cell_type": "markdown",
   "metadata": {},
   "source": [
    "**Age**: Age<br>\n",
    "**Sex**: Sex (1 = male; 0 = female)<br>\n",
    "**ChestPain**: Chest pain (typical, asymptotic, nonanginal, nontypical)<br>\n",
    "**RestBP**: Resting blood pressure<br>\n",
    "**Chol**: Serum cholestoral in mg/dl<br>\n",
    "**Fbs**: Fasting blood sugar > 120 mg/dl (1 = true; 0 = false)<br>\n",
    "**RestECG**: Resting electrocardiographic results<br>\n",
    "**MaxHR**: Maximum heart rate achieved<br>\n",
    "**ExAng**: Exercise induced angina (1 = yes; 0 = no)<br>\n",
    "**Oldpeak**: ST depression induced by exercise relative to rest<br>\n",
    "**Slope**: Slope of the peak exercise ST segment<br>\n",
    "**Ca**: Number of major vessels colored by flourosopy (0 - 3)<br>\n",
    "**Thal**: (3 = normal; 6 = fixed defect; 7 = reversable defect)<br>\n",
    "**Target**: AHD - Diagnosis of heart disease (1 = yes; 0 = no)<br>"
   ]
  },
  {
   "cell_type": "code",
   "execution_count": 11,
   "metadata": {
    "_cell_guid": "26d04fcd-560c-44d1-8c72-f9e32b6fca51",
    "_uuid": "48a1ecd9-7b29-4c6a-af7b-4b6d3b0a2d41",
    "collapsed": false,
    "jupyter": {
     "outputs_hidden": false
    }
   },
   "outputs": [],
   "source": [
    "from ucimlrepo import fetch_ucirepo \n",
    "  \n",
    "# fetch dataset \n",
    "heart_disease = fetch_ucirepo(id=45) \n",
    "  \n",
    "# data (as pandas dataframes) \n",
    "X = heart_disease.data.features \n",
    "y = heart_disease.data.targets \n",
    "\n",
    "# Combine features and targets into a single DataFrame\n",
    "df = pd.concat([X, y], axis=1)"
   ]
  },
  {
   "cell_type": "code",
   "execution_count": 13,
   "metadata": {},
   "outputs": [
    {
     "data": {
      "text/html": [
       "<div>\n",
       "<style scoped>\n",
       "    .dataframe tbody tr th:only-of-type {\n",
       "        vertical-align: middle;\n",
       "    }\n",
       "\n",
       "    .dataframe tbody tr th {\n",
       "        vertical-align: top;\n",
       "    }\n",
       "\n",
       "    .dataframe thead th {\n",
       "        text-align: right;\n",
       "    }\n",
       "</style>\n",
       "<table border=\"1\" class=\"dataframe\">\n",
       "  <thead>\n",
       "    <tr style=\"text-align: right;\">\n",
       "      <th></th>\n",
       "      <th>num</th>\n",
       "    </tr>\n",
       "  </thead>\n",
       "  <tbody>\n",
       "    <tr>\n",
       "      <th>0</th>\n",
       "      <td>0</td>\n",
       "    </tr>\n",
       "    <tr>\n",
       "      <th>1</th>\n",
       "      <td>2</td>\n",
       "    </tr>\n",
       "    <tr>\n",
       "      <th>2</th>\n",
       "      <td>1</td>\n",
       "    </tr>\n",
       "    <tr>\n",
       "      <th>3</th>\n",
       "      <td>0</td>\n",
       "    </tr>\n",
       "    <tr>\n",
       "      <th>4</th>\n",
       "      <td>0</td>\n",
       "    </tr>\n",
       "    <tr>\n",
       "      <th>...</th>\n",
       "      <td>...</td>\n",
       "    </tr>\n",
       "    <tr>\n",
       "      <th>298</th>\n",
       "      <td>1</td>\n",
       "    </tr>\n",
       "    <tr>\n",
       "      <th>299</th>\n",
       "      <td>2</td>\n",
       "    </tr>\n",
       "    <tr>\n",
       "      <th>300</th>\n",
       "      <td>3</td>\n",
       "    </tr>\n",
       "    <tr>\n",
       "      <th>301</th>\n",
       "      <td>1</td>\n",
       "    </tr>\n",
       "    <tr>\n",
       "      <th>302</th>\n",
       "      <td>0</td>\n",
       "    </tr>\n",
       "  </tbody>\n",
       "</table>\n",
       "<p>303 rows × 1 columns</p>\n",
       "</div>"
      ],
      "text/plain": [
       "     num\n",
       "0      0\n",
       "1      2\n",
       "2      1\n",
       "3      0\n",
       "4      0\n",
       "..   ...\n",
       "298    1\n",
       "299    2\n",
       "300    3\n",
       "301    1\n",
       "302    0\n",
       "\n",
       "[303 rows x 1 columns]"
      ]
     },
     "execution_count": 13,
     "metadata": {},
     "output_type": "execute_result"
    }
   ],
   "source": [
    "y"
   ]
  },
  {
   "cell_type": "code",
   "execution_count": 4,
   "metadata": {
    "_cell_guid": "0c45860d-984a-4515-9d12-b28e3362f31b",
    "_uuid": "480ef0b3-e681-4432-ab45-004f5ff8440d",
    "collapsed": false,
    "jupyter": {
     "outputs_hidden": false
    }
   },
   "outputs": [
    {
     "name": "stdout",
     "output_type": "stream",
     "text": [
      "<class 'pandas.core.frame.DataFrame'>\n",
      "RangeIndex: 303 entries, 0 to 302\n",
      "Data columns (total 13 columns):\n",
      " #   Column    Non-Null Count  Dtype  \n",
      "---  ------    --------------  -----  \n",
      " 0   age       303 non-null    int64  \n",
      " 1   sex       303 non-null    int64  \n",
      " 2   cp        303 non-null    int64  \n",
      " 3   trestbps  303 non-null    int64  \n",
      " 4   chol      303 non-null    int64  \n",
      " 5   fbs       303 non-null    int64  \n",
      " 6   restecg   303 non-null    int64  \n",
      " 7   thalach   303 non-null    int64  \n",
      " 8   exang     303 non-null    int64  \n",
      " 9   oldpeak   303 non-null    float64\n",
      " 10  slope     303 non-null    int64  \n",
      " 11  ca        299 non-null    float64\n",
      " 12  thal      301 non-null    float64\n",
      "dtypes: float64(3), int64(10)\n",
      "memory usage: 30.9 KB\n"
     ]
    }
   ],
   "source": [
    "X.info()"
   ]
  },
  {
   "cell_type": "markdown",
   "metadata": {
    "_cell_guid": "ee02fbb8-432a-471d-bed4-77c011c063d2",
    "_uuid": "1c53e512-1c22-4d5d-b828-d74b0760be5d"
   },
   "source": [
    "# Classification"
   ]
  },
  {
   "cell_type": "markdown",
   "metadata": {
    "_cell_guid": "993e340d-d0de-4c72-a11c-f6498af378b3",
    "_uuid": "82ab2b53-b1b9-47f3-8ce0-c746301c5d8d"
   },
   "source": [
    "#### Imports"
   ]
  },
  {
   "cell_type": "code",
   "execution_count": 6,
   "metadata": {
    "_cell_guid": "a06abd9f-400c-4490-b213-22c488484d46",
    "_uuid": "945bf58f-48c1-44ec-89ff-a0e5e5a65790",
    "collapsed": false,
    "jupyter": {
     "outputs_hidden": false
    }
   },
   "outputs": [],
   "source": [
    "from sklearn.model_selection import train_test_split,GridSearchCV\n",
    "from sklearn.neighbors import KNeighborsClassifier\n",
    "from sklearn.svm import SVC\n",
    "from sklearn.naive_bayes import GaussianNB,BernoulliNB\n",
    "from sklearn.tree import DecisionTreeClassifier\n",
    "from sklearn.metrics import classification_report,confusion_matrix"
   ]
  },
  {
   "cell_type": "markdown",
   "metadata": {
    "_cell_guid": "236112b7-2c62-4e2d-ba35-7cfbbec082f1",
    "_uuid": "c59a9e6b-7601-4481-a08b-776c4e44c1b4"
   },
   "source": [
    "### Standardize the Variables"
   ]
  },
  {
   "cell_type": "code",
   "execution_count": 7,
   "metadata": {
    "_cell_guid": "e5b3b24d-4ff9-4c9a-8f9c-dae7f0f18663",
    "_uuid": "92e3b372-19a3-44d7-99b7-fb1a7deb59d9",
    "collapsed": false,
    "jupyter": {
     "outputs_hidden": false
    }
   },
   "outputs": [],
   "source": [
    "from sklearn.preprocessing import StandardScaler\n",
    "sc=StandardScaler()"
   ]
  },
  {
   "cell_type": "code",
   "execution_count": 487,
   "metadata": {
    "_cell_guid": "ed050da6-53aa-43f3-a32e-3f60a187e3e4",
    "_uuid": "4d9b543d-38f9-4046-8fd1-84891a7cf433",
    "collapsed": false,
    "execution": {
     "iopub.execute_input": "2021-09-25T16:18:20.036844Z",
     "iopub.status.busy": "2021-09-25T16:18:20.036562Z",
     "iopub.status.idle": "2021-09-25T16:18:20.053675Z",
     "shell.execute_reply": "2021-09-25T16:18:20.052407Z",
     "shell.execute_reply.started": "2021-09-25T16:18:20.036814Z"
    },
    "jupyter": {
     "outputs_hidden": false
    }
   },
   "outputs": [],
   "source": [
    "sc.fit(X)\n",
    "df_sc=pd.DataFrame(sc.transform(X),columns=df.columns[:-1])\n",
    "df_sc['target']=df['target']"
   ]
  },
  {
   "cell_type": "code",
   "execution_count": 488,
   "metadata": {
    "_cell_guid": "96a9a250-92fb-48ee-8cb4-803bfcec0a01",
    "_uuid": "13615e14-2d2b-4500-afd7-80688e42d4f1",
    "collapsed": false,
    "execution": {
     "iopub.execute_input": "2021-09-25T16:18:20.056407Z",
     "iopub.status.busy": "2021-09-25T16:18:20.055505Z",
     "iopub.status.idle": "2021-09-25T16:18:20.087458Z",
     "shell.execute_reply": "2021-09-25T16:18:20.086601Z",
     "shell.execute_reply.started": "2021-09-25T16:18:20.056350Z"
    },
    "jupyter": {
     "outputs_hidden": false
    }
   },
   "outputs": [
    {
     "data": {
      "text/html": [
       "<div>\n",
       "<style scoped>\n",
       "    .dataframe tbody tr th:only-of-type {\n",
       "        vertical-align: middle;\n",
       "    }\n",
       "\n",
       "    .dataframe tbody tr th {\n",
       "        vertical-align: top;\n",
       "    }\n",
       "\n",
       "    .dataframe thead th {\n",
       "        text-align: right;\n",
       "    }\n",
       "</style>\n",
       "<table border=\"1\" class=\"dataframe\">\n",
       "  <thead>\n",
       "    <tr style=\"text-align: right;\">\n",
       "      <th></th>\n",
       "      <th>age</th>\n",
       "      <th>sex</th>\n",
       "      <th>cp</th>\n",
       "      <th>trestbps</th>\n",
       "      <th>chol</th>\n",
       "      <th>fbs</th>\n",
       "      <th>restecg</th>\n",
       "      <th>thalach</th>\n",
       "      <th>exang</th>\n",
       "      <th>oldpeak</th>\n",
       "      <th>slope</th>\n",
       "      <th>ca</th>\n",
       "      <th>thal</th>\n",
       "      <th>target</th>\n",
       "    </tr>\n",
       "  </thead>\n",
       "  <tbody>\n",
       "    <tr>\n",
       "      <th>0</th>\n",
       "      <td>0.952197</td>\n",
       "      <td>0.681005</td>\n",
       "      <td>1.973123</td>\n",
       "      <td>0.763956</td>\n",
       "      <td>-0.256334</td>\n",
       "      <td>2.394438</td>\n",
       "      <td>-1.005832</td>\n",
       "      <td>0.015443</td>\n",
       "      <td>-0.696631</td>\n",
       "      <td>1.087338</td>\n",
       "      <td>-2.274579</td>\n",
       "      <td>-0.714429</td>\n",
       "      <td>-2.148873</td>\n",
       "      <td>1</td>\n",
       "    </tr>\n",
       "    <tr>\n",
       "      <th>1</th>\n",
       "      <td>-1.915313</td>\n",
       "      <td>0.681005</td>\n",
       "      <td>1.002577</td>\n",
       "      <td>-0.092738</td>\n",
       "      <td>0.072199</td>\n",
       "      <td>-0.417635</td>\n",
       "      <td>0.898962</td>\n",
       "      <td>1.633471</td>\n",
       "      <td>-0.696631</td>\n",
       "      <td>2.122573</td>\n",
       "      <td>-2.274579</td>\n",
       "      <td>-0.714429</td>\n",
       "      <td>-0.512922</td>\n",
       "      <td>1</td>\n",
       "    </tr>\n",
       "    <tr>\n",
       "      <th>2</th>\n",
       "      <td>-1.474158</td>\n",
       "      <td>-1.468418</td>\n",
       "      <td>0.032031</td>\n",
       "      <td>-0.092738</td>\n",
       "      <td>-0.816773</td>\n",
       "      <td>-0.417635</td>\n",
       "      <td>-1.005832</td>\n",
       "      <td>0.977514</td>\n",
       "      <td>-0.696631</td>\n",
       "      <td>0.310912</td>\n",
       "      <td>0.976352</td>\n",
       "      <td>-0.714429</td>\n",
       "      <td>-0.512922</td>\n",
       "      <td>1</td>\n",
       "    </tr>\n",
       "    <tr>\n",
       "      <th>3</th>\n",
       "      <td>0.180175</td>\n",
       "      <td>0.681005</td>\n",
       "      <td>0.032031</td>\n",
       "      <td>-0.663867</td>\n",
       "      <td>-0.198357</td>\n",
       "      <td>-0.417635</td>\n",
       "      <td>0.898962</td>\n",
       "      <td>1.239897</td>\n",
       "      <td>-0.696631</td>\n",
       "      <td>-0.206705</td>\n",
       "      <td>0.976352</td>\n",
       "      <td>-0.714429</td>\n",
       "      <td>-0.512922</td>\n",
       "      <td>1</td>\n",
       "    </tr>\n",
       "    <tr>\n",
       "      <th>4</th>\n",
       "      <td>0.290464</td>\n",
       "      <td>-1.468418</td>\n",
       "      <td>-0.938515</td>\n",
       "      <td>-0.663867</td>\n",
       "      <td>2.082050</td>\n",
       "      <td>-0.417635</td>\n",
       "      <td>0.898962</td>\n",
       "      <td>0.583939</td>\n",
       "      <td>1.435481</td>\n",
       "      <td>-0.379244</td>\n",
       "      <td>0.976352</td>\n",
       "      <td>-0.714429</td>\n",
       "      <td>-0.512922</td>\n",
       "      <td>1</td>\n",
       "    </tr>\n",
       "    <tr>\n",
       "      <th>...</th>\n",
       "      <td>...</td>\n",
       "      <td>...</td>\n",
       "      <td>...</td>\n",
       "      <td>...</td>\n",
       "      <td>...</td>\n",
       "      <td>...</td>\n",
       "      <td>...</td>\n",
       "      <td>...</td>\n",
       "      <td>...</td>\n",
       "      <td>...</td>\n",
       "      <td>...</td>\n",
       "      <td>...</td>\n",
       "      <td>...</td>\n",
       "      <td>...</td>\n",
       "    </tr>\n",
       "    <tr>\n",
       "      <th>298</th>\n",
       "      <td>0.290464</td>\n",
       "      <td>-1.468418</td>\n",
       "      <td>-0.938515</td>\n",
       "      <td>0.478391</td>\n",
       "      <td>-0.101730</td>\n",
       "      <td>-0.417635</td>\n",
       "      <td>0.898962</td>\n",
       "      <td>-1.165281</td>\n",
       "      <td>1.435481</td>\n",
       "      <td>-0.724323</td>\n",
       "      <td>-0.649113</td>\n",
       "      <td>-0.714429</td>\n",
       "      <td>1.123029</td>\n",
       "      <td>0</td>\n",
       "    </tr>\n",
       "    <tr>\n",
       "      <th>299</th>\n",
       "      <td>-1.033002</td>\n",
       "      <td>0.681005</td>\n",
       "      <td>1.973123</td>\n",
       "      <td>-1.234996</td>\n",
       "      <td>0.342756</td>\n",
       "      <td>-0.417635</td>\n",
       "      <td>0.898962</td>\n",
       "      <td>-0.771706</td>\n",
       "      <td>-0.696631</td>\n",
       "      <td>0.138373</td>\n",
       "      <td>-0.649113</td>\n",
       "      <td>-0.714429</td>\n",
       "      <td>1.123029</td>\n",
       "      <td>0</td>\n",
       "    </tr>\n",
       "    <tr>\n",
       "      <th>300</th>\n",
       "      <td>1.503641</td>\n",
       "      <td>0.681005</td>\n",
       "      <td>-0.938515</td>\n",
       "      <td>0.706843</td>\n",
       "      <td>-1.029353</td>\n",
       "      <td>2.394438</td>\n",
       "      <td>0.898962</td>\n",
       "      <td>-0.378132</td>\n",
       "      <td>-0.696631</td>\n",
       "      <td>2.036303</td>\n",
       "      <td>-0.649113</td>\n",
       "      <td>1.244593</td>\n",
       "      <td>1.123029</td>\n",
       "      <td>0</td>\n",
       "    </tr>\n",
       "    <tr>\n",
       "      <th>301</th>\n",
       "      <td>0.290464</td>\n",
       "      <td>0.681005</td>\n",
       "      <td>-0.938515</td>\n",
       "      <td>-0.092738</td>\n",
       "      <td>-2.227533</td>\n",
       "      <td>-0.417635</td>\n",
       "      <td>0.898962</td>\n",
       "      <td>-1.515125</td>\n",
       "      <td>1.435481</td>\n",
       "      <td>0.138373</td>\n",
       "      <td>-0.649113</td>\n",
       "      <td>0.265082</td>\n",
       "      <td>1.123029</td>\n",
       "      <td>0</td>\n",
       "    </tr>\n",
       "    <tr>\n",
       "      <th>302</th>\n",
       "      <td>0.290464</td>\n",
       "      <td>-1.468418</td>\n",
       "      <td>0.032031</td>\n",
       "      <td>-0.092738</td>\n",
       "      <td>-0.198357</td>\n",
       "      <td>-0.417635</td>\n",
       "      <td>-1.005832</td>\n",
       "      <td>1.064975</td>\n",
       "      <td>-0.696631</td>\n",
       "      <td>-0.896862</td>\n",
       "      <td>-0.649113</td>\n",
       "      <td>0.265082</td>\n",
       "      <td>-0.512922</td>\n",
       "      <td>0</td>\n",
       "    </tr>\n",
       "  </tbody>\n",
       "</table>\n",
       "<p>303 rows × 14 columns</p>\n",
       "</div>"
      ],
      "text/plain": [
       "          age       sex        cp  trestbps      chol       fbs   restecg  \\\n",
       "0    0.952197  0.681005  1.973123  0.763956 -0.256334  2.394438 -1.005832   \n",
       "1   -1.915313  0.681005  1.002577 -0.092738  0.072199 -0.417635  0.898962   \n",
       "2   -1.474158 -1.468418  0.032031 -0.092738 -0.816773 -0.417635 -1.005832   \n",
       "3    0.180175  0.681005  0.032031 -0.663867 -0.198357 -0.417635  0.898962   \n",
       "4    0.290464 -1.468418 -0.938515 -0.663867  2.082050 -0.417635  0.898962   \n",
       "..        ...       ...       ...       ...       ...       ...       ...   \n",
       "298  0.290464 -1.468418 -0.938515  0.478391 -0.101730 -0.417635  0.898962   \n",
       "299 -1.033002  0.681005  1.973123 -1.234996  0.342756 -0.417635  0.898962   \n",
       "300  1.503641  0.681005 -0.938515  0.706843 -1.029353  2.394438  0.898962   \n",
       "301  0.290464  0.681005 -0.938515 -0.092738 -2.227533 -0.417635  0.898962   \n",
       "302  0.290464 -1.468418  0.032031 -0.092738 -0.198357 -0.417635 -1.005832   \n",
       "\n",
       "      thalach     exang   oldpeak     slope        ca      thal  target  \n",
       "0    0.015443 -0.696631  1.087338 -2.274579 -0.714429 -2.148873       1  \n",
       "1    1.633471 -0.696631  2.122573 -2.274579 -0.714429 -0.512922       1  \n",
       "2    0.977514 -0.696631  0.310912  0.976352 -0.714429 -0.512922       1  \n",
       "3    1.239897 -0.696631 -0.206705  0.976352 -0.714429 -0.512922       1  \n",
       "4    0.583939  1.435481 -0.379244  0.976352 -0.714429 -0.512922       1  \n",
       "..        ...       ...       ...       ...       ...       ...     ...  \n",
       "298 -1.165281  1.435481 -0.724323 -0.649113 -0.714429  1.123029       0  \n",
       "299 -0.771706 -0.696631  0.138373 -0.649113 -0.714429  1.123029       0  \n",
       "300 -0.378132 -0.696631  2.036303 -0.649113  1.244593  1.123029       0  \n",
       "301 -1.515125  1.435481  0.138373 -0.649113  0.265082  1.123029       0  \n",
       "302  1.064975 -0.696631 -0.896862 -0.649113  0.265082 -0.512922       0  \n",
       "\n",
       "[303 rows x 14 columns]"
      ]
     },
     "execution_count": 488,
     "metadata": {},
     "output_type": "execute_result"
    }
   ],
   "source": [
    "df_sc"
   ]
  },
  {
   "cell_type": "markdown",
   "metadata": {
    "_cell_guid": "c3922668-f18b-4571-9648-61c42969f9ff",
    "_uuid": "ea475544-aefc-4502-a559-bc5f05abafdf"
   },
   "source": [
    "### Train Test Split"
   ]
  },
  {
   "cell_type": "code",
   "execution_count": 489,
   "metadata": {
    "execution": {
     "iopub.execute_input": "2021-09-25T16:18:20.089589Z",
     "iopub.status.busy": "2021-09-25T16:18:20.088759Z",
     "iopub.status.idle": "2021-09-25T16:18:20.099127Z",
     "shell.execute_reply": "2021-09-25T16:18:20.097887Z",
     "shell.execute_reply.started": "2021-09-25T16:18:20.089545Z"
    }
   },
   "outputs": [],
   "source": [
    "X=df_sc.drop('target',axis=1)\n",
    "y=df_sc['target']\n",
    "X_train, X_test, y_train, y_test = train_test_split(X, y, test_size=.3)"
   ]
  },
  {
   "cell_type": "code",
   "execution_count": 490,
   "metadata": {
    "_cell_guid": "f41e20ef-cb05-462c-93be-7ce4b72dad43",
    "_uuid": "4d987951-2275-4455-9d78-a8b83e9ff5e7",
    "collapsed": false,
    "execution": {
     "iopub.execute_input": "2021-09-25T16:18:20.101517Z",
     "iopub.status.busy": "2021-09-25T16:18:20.100649Z",
     "iopub.status.idle": "2021-09-25T16:18:20.111356Z",
     "shell.execute_reply": "2021-09-25T16:18:20.110585Z",
     "shell.execute_reply.started": "2021-09-25T16:18:20.101449Z"
    },
    "jupyter": {
     "outputs_hidden": false
    }
   },
   "outputs": [
    {
     "data": {
      "text/plain": [
       "((212, 13), (212,), (91, 13), (91,))"
      ]
     },
     "execution_count": 490,
     "metadata": {},
     "output_type": "execute_result"
    }
   ],
   "source": [
    "X_train.shape,y_train.shape,X_test.shape,y_test.shape"
   ]
  },
  {
   "cell_type": "markdown",
   "metadata": {
    "_cell_guid": "804ac1d6-798f-49b0-bba0-d066ca24f8d0",
    "_uuid": "0ec79786-1fd9-4156-831e-bdf79ef6b4fc"
   },
   "source": [
    "### Classification with Default Params"
   ]
  },
  {
   "cell_type": "code",
   "execution_count": 491,
   "metadata": {
    "_cell_guid": "f6cb194b-a54a-4e71-b586-d13477d0a96c",
    "_uuid": "efd63381-2ee4-47e7-8c46-a1f5ef9483d1",
    "collapsed": false,
    "execution": {
     "iopub.execute_input": "2021-09-25T16:18:20.113114Z",
     "iopub.status.busy": "2021-09-25T16:18:20.112648Z",
     "iopub.status.idle": "2021-09-25T16:18:20.122750Z",
     "shell.execute_reply": "2021-09-25T16:18:20.121949Z",
     "shell.execute_reply.started": "2021-09-25T16:18:20.113077Z"
    },
    "jupyter": {
     "outputs_hidden": false
    }
   },
   "outputs": [],
   "source": [
    "classifiers=[LogisticRegression(),\n",
    "             KNeighborsClassifier(),\n",
    "             SVC(kernel='rbf'),\n",
    "             SVC(kernel='linear'),\n",
    "             GaussianNB(),\n",
    "             BernoulliNB(),\n",
    "             GaussianProcessClassifier(),\n",
    "             DecisionTreeClassifier(),\n",
    "             RandomForestClassifier(),\n",
    "             AdaBoostClassifier(),\n",
    "             QuadraticDiscriminantAnalysis()]"
   ]
  },
  {
   "cell_type": "code",
   "execution_count": 492,
   "metadata": {
    "_cell_guid": "4ff8525e-e454-427a-a993-a560f9bf6dd3",
    "_uuid": "88f8f51c-81f9-4aa7-a834-7afef81b8239",
    "collapsed": false,
    "execution": {
     "iopub.execute_input": "2021-09-25T16:18:20.124611Z",
     "iopub.status.busy": "2021-09-25T16:18:20.124167Z",
     "iopub.status.idle": "2021-09-25T16:18:20.138142Z",
     "shell.execute_reply": "2021-09-25T16:18:20.137338Z",
     "shell.execute_reply.started": "2021-09-25T16:18:20.124553Z"
    },
    "jupyter": {
     "outputs_hidden": false
    }
   },
   "outputs": [],
   "source": [
    "\n",
    "def predict(clf_list,score_list):\n",
    "    for i in clf_list:\n",
    "        i.fit(X_train,y_train)\n",
    "        print('                ',i)\n",
    "        print('Score =',i.score(X_test,y_test))\n",
    "        print(confusion_matrix(y_test,i.predict(X_test)))\n",
    "        print(classification_report(y_test,i.predict(X_test)))\n",
    "        score_list.append(i.score(X_test,y_test))\n",
    "        print('*'*80)\n",
    "    return score_list"
   ]
  },
  {
   "cell_type": "code",
   "execution_count": 493,
   "metadata": {
    "_cell_guid": "b3ca6caa-ce11-4f14-acf6-0a156c45c7af",
    "_uuid": "3e33574d-0267-4ffc-8340-46f60e85aac8",
    "collapsed": false,
    "execution": {
     "iopub.execute_input": "2021-09-25T16:18:20.139789Z",
     "iopub.status.busy": "2021-09-25T16:18:20.139321Z",
     "iopub.status.idle": "2021-09-25T16:18:20.837013Z",
     "shell.execute_reply": "2021-09-25T16:18:20.835832Z",
     "shell.execute_reply.started": "2021-09-25T16:18:20.139719Z"
    },
    "jupyter": {
     "outputs_hidden": false
    }
   },
   "outputs": [
    {
     "name": "stdout",
     "output_type": "stream",
     "text": [
      "                 LogisticRegression()\n",
      "Score = 0.7912087912087912\n",
      "[[31  9]\n",
      " [10 41]]\n",
      "              precision    recall  f1-score   support\n",
      "\n",
      "           0       0.76      0.78      0.77        40\n",
      "           1       0.82      0.80      0.81        51\n",
      "\n",
      "    accuracy                           0.79        91\n",
      "   macro avg       0.79      0.79      0.79        91\n",
      "weighted avg       0.79      0.79      0.79        91\n",
      "\n",
      "********************************************************************************\n",
      "                 KNeighborsClassifier()\n",
      "Score = 0.7802197802197802\n",
      "[[29 11]\n",
      " [ 9 42]]\n",
      "              precision    recall  f1-score   support\n",
      "\n",
      "           0       0.76      0.72      0.74        40\n",
      "           1       0.79      0.82      0.81        51\n",
      "\n",
      "    accuracy                           0.78        91\n",
      "   macro avg       0.78      0.77      0.78        91\n",
      "weighted avg       0.78      0.78      0.78        91\n",
      "\n",
      "********************************************************************************\n",
      "                 SVC()\n",
      "Score = 0.8131868131868132\n",
      "[[32  8]\n",
      " [ 9 42]]\n",
      "              precision    recall  f1-score   support\n",
      "\n",
      "           0       0.78      0.80      0.79        40\n",
      "           1       0.84      0.82      0.83        51\n",
      "\n",
      "    accuracy                           0.81        91\n",
      "   macro avg       0.81      0.81      0.81        91\n",
      "weighted avg       0.81      0.81      0.81        91\n",
      "\n",
      "********************************************************************************\n",
      "                 SVC(kernel='linear')\n",
      "Score = 0.8021978021978022\n",
      "[[32  8]\n",
      " [10 41]]\n",
      "              precision    recall  f1-score   support\n",
      "\n",
      "           0       0.76      0.80      0.78        40\n",
      "           1       0.84      0.80      0.82        51\n",
      "\n",
      "    accuracy                           0.80        91\n",
      "   macro avg       0.80      0.80      0.80        91\n",
      "weighted avg       0.80      0.80      0.80        91\n",
      "\n",
      "********************************************************************************\n",
      "                 GaussianNB()\n",
      "Score = 0.8021978021978022\n",
      "[[33  7]\n",
      " [11 40]]\n",
      "              precision    recall  f1-score   support\n",
      "\n",
      "           0       0.75      0.82      0.79        40\n",
      "           1       0.85      0.78      0.82        51\n",
      "\n",
      "    accuracy                           0.80        91\n",
      "   macro avg       0.80      0.80      0.80        91\n",
      "weighted avg       0.81      0.80      0.80        91\n",
      "\n",
      "********************************************************************************\n",
      "                 BernoulliNB()\n",
      "Score = 0.8681318681318682\n",
      "[[33  7]\n",
      " [ 5 46]]\n",
      "              precision    recall  f1-score   support\n",
      "\n",
      "           0       0.87      0.82      0.85        40\n",
      "           1       0.87      0.90      0.88        51\n",
      "\n",
      "    accuracy                           0.87        91\n",
      "   macro avg       0.87      0.86      0.87        91\n",
      "weighted avg       0.87      0.87      0.87        91\n",
      "\n",
      "********************************************************************************\n",
      "                 GaussianProcessClassifier()\n",
      "Score = 0.7362637362637363\n",
      "[[28 12]\n",
      " [12 39]]\n",
      "              precision    recall  f1-score   support\n",
      "\n",
      "           0       0.70      0.70      0.70        40\n",
      "           1       0.76      0.76      0.76        51\n",
      "\n",
      "    accuracy                           0.74        91\n",
      "   macro avg       0.73      0.73      0.73        91\n",
      "weighted avg       0.74      0.74      0.74        91\n",
      "\n",
      "********************************************************************************\n",
      "                 DecisionTreeClassifier()\n",
      "Score = 0.7472527472527473\n",
      "[[29 11]\n",
      " [12 39]]\n",
      "              precision    recall  f1-score   support\n",
      "\n",
      "           0       0.71      0.72      0.72        40\n",
      "           1       0.78      0.76      0.77        51\n",
      "\n",
      "    accuracy                           0.75        91\n",
      "   macro avg       0.74      0.74      0.74        91\n",
      "weighted avg       0.75      0.75      0.75        91\n",
      "\n",
      "********************************************************************************\n",
      "                 RandomForestClassifier()\n",
      "Score = 0.8021978021978022\n",
      "[[31  9]\n",
      " [ 9 42]]\n",
      "              precision    recall  f1-score   support\n",
      "\n",
      "           0       0.78      0.78      0.78        40\n",
      "           1       0.82      0.82      0.82        51\n",
      "\n",
      "    accuracy                           0.80        91\n",
      "   macro avg       0.80      0.80      0.80        91\n",
      "weighted avg       0.80      0.80      0.80        91\n",
      "\n",
      "********************************************************************************\n",
      "                 AdaBoostClassifier()\n",
      "Score = 0.7362637362637363\n",
      "[[28 12]\n",
      " [12 39]]\n",
      "              precision    recall  f1-score   support\n",
      "\n",
      "           0       0.70      0.70      0.70        40\n",
      "           1       0.76      0.76      0.76        51\n",
      "\n",
      "    accuracy                           0.74        91\n",
      "   macro avg       0.73      0.73      0.73        91\n",
      "weighted avg       0.74      0.74      0.74        91\n",
      "\n",
      "********************************************************************************\n",
      "                 QuadraticDiscriminantAnalysis()\n",
      "Score = 0.7692307692307693\n",
      "[[31  9]\n",
      " [12 39]]\n",
      "              precision    recall  f1-score   support\n",
      "\n",
      "           0       0.72      0.78      0.75        40\n",
      "           1       0.81      0.76      0.79        51\n",
      "\n",
      "    accuracy                           0.77        91\n",
      "   macro avg       0.77      0.77      0.77        91\n",
      "weighted avg       0.77      0.77      0.77        91\n",
      "\n",
      "********************************************************************************\n"
     ]
    },
    {
     "data": {
      "text/plain": [
       "[0.7912087912087912,\n",
       " 0.7802197802197802,\n",
       " 0.8131868131868132,\n",
       " 0.8021978021978022,\n",
       " 0.8021978021978022,\n",
       " 0.8681318681318682,\n",
       " 0.7362637362637363,\n",
       " 0.7472527472527473,\n",
       " 0.8021978021978022,\n",
       " 0.7362637362637363,\n",
       " 0.7692307692307693]"
      ]
     },
     "execution_count": 493,
     "metadata": {},
     "output_type": "execute_result"
    }
   ],
   "source": [
    "default_scores=[]\n",
    "ds=predict(classifiers,default_scores)\n",
    "ds"
   ]
  },
  {
   "cell_type": "markdown",
   "metadata": {
    "_cell_guid": "4198d426-ef46-45da-a275-dd90d7049bbd",
    "_uuid": "b6299992-2690-483d-8ab4-cb08fc5a5726"
   },
   "source": [
    "### Finding Alternate Params with GridSearch"
   ]
  },
  {
   "cell_type": "code",
   "execution_count": 494,
   "metadata": {
    "_cell_guid": "c2dae19e-bbab-43ac-9789-3c6fcacf32da",
    "_uuid": "d4d80461-00b4-4a34-85e8-b841cb086e2e",
    "collapsed": false,
    "execution": {
     "iopub.execute_input": "2021-09-25T16:18:20.839684Z",
     "iopub.status.busy": "2021-09-25T16:18:20.838678Z",
     "iopub.status.idle": "2021-09-25T16:18:20.852447Z",
     "shell.execute_reply": "2021-09-25T16:18:20.851712Z",
     "shell.execute_reply.started": "2021-09-25T16:18:20.839634Z"
    },
    "jupyter": {
     "outputs_hidden": false
    }
   },
   "outputs": [],
   "source": [
    "classifiers=[LogisticRegression(),KNeighborsClassifier(),SVC(),SVC(),GaussianProcessClassifier(),DecisionTreeClassifier(),RandomForestClassifier()]\n",
    "params=[{'penalty':('l1', 'l2', 'elasticnet', 'none'),'C':np.append(np.arange(0.01,1,0.03),[2,3,4,5]),'solver' :('newton-cg', 'lbfgs', 'liblinear', 'sag', 'saga'),'multi_class' : ('auto', 'ovr', 'multinomial')},\n",
    "       {'n_neighbors':range(1,51),'weights' : ('uniform', 'distance'),'algorithm' : ('auto', 'ball_tree', 'kd_tree', 'brute'),'metric':('minkowski','manhattan','chebyshev','euclidean')},\n",
    "       {'kernel':('rbf','rbf'),'C':np.append(np.arange(0.01,1,0.03),[2,3,4,5]),'gamma' : ('scale', 'auto')},\n",
    "       {'kernel':('linear','linear'),'C':np.append(np.arange(0.01,1,0.03),[2,3,4,5]),'gamma' : ('scale', 'auto')},\n",
    "       {'max_iter_predict':np.arange(10,201),'multi_class':('one_vs_rest', 'one_vs_one')},\n",
    "       {'criterion' : ('gini', 'entropy'),'max_depth':range(1,10),'splitter':('best','random'),'min_samples_split':np.arange(1,25)},\n",
    "       {'criterion' : ('gini', 'entropy'),'max_depth':range(1,10),'n_estimators':[5,10,15,25,50,75,100,125,150]}]"
   ]
  },
  {
   "cell_type": "code",
   "execution_count": 495,
   "metadata": {
    "_cell_guid": "1fb3d324-36d6-4730-9ef5-d24774bf5832",
    "_uuid": "599043a5-82ed-491b-b2ae-b79ad81d96ba",
    "collapsed": false,
    "execution": {
     "iopub.execute_input": "2021-09-25T16:18:20.856161Z",
     "iopub.status.busy": "2021-09-25T16:18:20.855896Z",
     "iopub.status.idle": "2021-09-25T16:23:05.689891Z",
     "shell.execute_reply": "2021-09-25T16:23:05.688475Z",
     "shell.execute_reply.started": "2021-09-25T16:18:20.856129Z"
    },
    "jupyter": {
     "outputs_hidden": false
    }
   },
   "outputs": [
    {
     "name": "stdout",
     "output_type": "stream",
     "text": [
      "LogisticRegression()  =  {'C': 0.19, 'multi_class': 'multinomial', 'penalty': 'l2', 'solver': 'newton-cg'}\n",
      "KNeighborsClassifier()  =  {'algorithm': 'auto', 'metric': 'minkowski', 'n_neighbors': 9, 'weights': 'uniform'}\n",
      "SVC()  =  {'C': 0.28, 'gamma': 'scale', 'kernel': 'rbf'}\n",
      "SVC()  =  {'C': 4.0, 'gamma': 'scale', 'kernel': 'linear'}\n",
      "GaussianProcessClassifier()  =  {'max_iter_predict': 10, 'multi_class': 'one_vs_rest'}\n",
      "DecisionTreeClassifier()  =  {'criterion': 'entropy', 'max_depth': 6, 'min_samples_split': 8, 'splitter': 'random'}\n",
      "RandomForestClassifier()  =  {'criterion': 'gini', 'max_depth': 2, 'n_estimators': 50}\n"
     ]
    }
   ],
   "source": [
    "alt_params=[]\n",
    "for clf,param in zip(classifiers,params):\n",
    "    grid=GridSearchCV(clf,param)\n",
    "    grid.fit(X_train,y_train)\n",
    "    print(clf,' = ',grid.best_params_) \n",
    "    alt_params.append(grid.best_params_)\n",
    "    #it may take a while"
   ]
  },
  {
   "cell_type": "code",
   "execution_count": 496,
   "metadata": {
    "execution": {
     "iopub.execute_input": "2021-09-25T16:23:05.691998Z",
     "iopub.status.busy": "2021-09-25T16:23:05.691735Z",
     "iopub.status.idle": "2021-09-25T16:23:05.700666Z",
     "shell.execute_reply": "2021-09-25T16:23:05.699502Z",
     "shell.execute_reply.started": "2021-09-25T16:23:05.691968Z"
    }
   },
   "outputs": [
    {
     "data": {
      "text/plain": [
       "[{'C': 0.19,\n",
       "  'multi_class': 'multinomial',\n",
       "  'penalty': 'l2',\n",
       "  'solver': 'newton-cg'},\n",
       " {'algorithm': 'auto',\n",
       "  'metric': 'minkowski',\n",
       "  'n_neighbors': 9,\n",
       "  'weights': 'uniform'},\n",
       " {'C': 0.28, 'gamma': 'scale', 'kernel': 'rbf'},\n",
       " {'C': 4.0, 'gamma': 'scale', 'kernel': 'linear'},\n",
       " {'max_iter_predict': 10, 'multi_class': 'one_vs_rest'},\n",
       " {'criterion': 'entropy',\n",
       "  'max_depth': 6,\n",
       "  'min_samples_split': 8,\n",
       "  'splitter': 'random'},\n",
       " {'criterion': 'gini', 'max_depth': 2, 'n_estimators': 50}]"
      ]
     },
     "execution_count": 496,
     "metadata": {},
     "output_type": "execute_result"
    }
   ],
   "source": [
    "alt_params"
   ]
  },
  {
   "cell_type": "markdown",
   "metadata": {
    "_cell_guid": "0b890e42-4dc6-4826-a8b3-86b9d40ede4d",
    "_uuid": "4ae807f8-dff1-479e-9c0e-7b91e82c95e8"
   },
   "source": [
    "### Classification with GridSearch Params"
   ]
  },
  {
   "cell_type": "code",
   "execution_count": 497,
   "metadata": {
    "_cell_guid": "dbc15a4c-434e-4a1b-886a-e8a009555389",
    "_uuid": "9ad51486-e3f3-4166-a2f5-8adce3aafb01",
    "collapsed": false,
    "execution": {
     "iopub.execute_input": "2021-09-25T16:23:05.702707Z",
     "iopub.status.busy": "2021-09-25T16:23:05.702381Z",
     "iopub.status.idle": "2021-09-25T16:23:05.715652Z",
     "shell.execute_reply": "2021-09-25T16:23:05.714918Z",
     "shell.execute_reply.started": "2021-09-25T16:23:05.702664Z"
    },
    "jupyter": {
     "outputs_hidden": false
    }
   },
   "outputs": [],
   "source": [
    "classifiers=[LogisticRegression(C= alt_params[0]['C'], multi_class= alt_params[0]['multi_class'], penalty= alt_params[0]['penalty'], solver= alt_params[0]['solver']),\n",
    "             KNeighborsClassifier(algorithm= alt_params[1]['algorithm'], metric= alt_params[1]['metric'], n_neighbors= alt_params[1]['n_neighbors'], weights= alt_params[1]['weights']),\n",
    "             SVC(C= alt_params[2]['C'], gamma= alt_params[2]['gamma'], kernel= alt_params[2]['kernel']),\n",
    "             SVC(C= alt_params[3]['C'], gamma= alt_params[3]['gamma'], kernel= alt_params[3]['kernel']),\n",
    "             GaussianNB(),\n",
    "             BernoulliNB(),\n",
    "             GaussianProcessClassifier(max_iter_predict=alt_params[4]['max_iter_predict'],multi_class=alt_params[4]['multi_class']),\n",
    "             DecisionTreeClassifier(criterion= alt_params[5]['criterion'], max_depth= alt_params[5]['max_depth'],splitter=alt_params[5]['splitter'],min_samples_split=alt_params[5]['min_samples_split']),\n",
    "             RandomForestClassifier(criterion= alt_params[6]['criterion'], max_depth= alt_params[6]['max_depth'], n_estimators= alt_params[6]['n_estimators']),\n",
    "             AdaBoostClassifier(),\n",
    "             QuadraticDiscriminantAnalysis()]"
   ]
  },
  {
   "cell_type": "code",
   "execution_count": 498,
   "metadata": {
    "_cell_guid": "4f7925c0-8a55-40c6-b48c-422f852d1067",
    "_uuid": "1a568d17-1d9c-4d9d-b7e6-04104373a2c5",
    "collapsed": false,
    "execution": {
     "iopub.execute_input": "2021-09-25T16:23:05.717862Z",
     "iopub.status.busy": "2021-09-25T16:23:05.717603Z",
     "iopub.status.idle": "2021-09-25T16:23:06.297730Z",
     "shell.execute_reply": "2021-09-25T16:23:06.296607Z",
     "shell.execute_reply.started": "2021-09-25T16:23:05.717831Z"
    },
    "jupyter": {
     "outputs_hidden": false
    }
   },
   "outputs": [
    {
     "name": "stdout",
     "output_type": "stream",
     "text": [
      "                 LogisticRegression(C=0.19, multi_class='multinomial', solver='newton-cg')\n",
      "Score = 0.8131868131868132\n",
      "[[31  9]\n",
      " [ 8 43]]\n",
      "              precision    recall  f1-score   support\n",
      "\n",
      "           0       0.79      0.78      0.78        40\n",
      "           1       0.83      0.84      0.83        51\n",
      "\n",
      "    accuracy                           0.81        91\n",
      "   macro avg       0.81      0.81      0.81        91\n",
      "weighted avg       0.81      0.81      0.81        91\n",
      "\n",
      "********************************************************************************\n",
      "                 KNeighborsClassifier(n_neighbors=9)\n",
      "Score = 0.8021978021978022\n",
      "[[28 12]\n",
      " [ 6 45]]\n",
      "              precision    recall  f1-score   support\n",
      "\n",
      "           0       0.82      0.70      0.76        40\n",
      "           1       0.79      0.88      0.83        51\n",
      "\n",
      "    accuracy                           0.80        91\n",
      "   macro avg       0.81      0.79      0.80        91\n",
      "weighted avg       0.80      0.80      0.80        91\n",
      "\n",
      "********************************************************************************\n",
      "                 SVC(C=0.28)\n",
      "Score = 0.8241758241758241\n",
      "[[31  9]\n",
      " [ 7 44]]\n",
      "              precision    recall  f1-score   support\n",
      "\n",
      "           0       0.82      0.78      0.79        40\n",
      "           1       0.83      0.86      0.85        51\n",
      "\n",
      "    accuracy                           0.82        91\n",
      "   macro avg       0.82      0.82      0.82        91\n",
      "weighted avg       0.82      0.82      0.82        91\n",
      "\n",
      "********************************************************************************\n",
      "                 SVC(C=4.0, kernel='linear')\n",
      "Score = 0.8131868131868132\n",
      "[[32  8]\n",
      " [ 9 42]]\n",
      "              precision    recall  f1-score   support\n",
      "\n",
      "           0       0.78      0.80      0.79        40\n",
      "           1       0.84      0.82      0.83        51\n",
      "\n",
      "    accuracy                           0.81        91\n",
      "   macro avg       0.81      0.81      0.81        91\n",
      "weighted avg       0.81      0.81      0.81        91\n",
      "\n",
      "********************************************************************************\n",
      "                 GaussianNB()\n",
      "Score = 0.8021978021978022\n",
      "[[33  7]\n",
      " [11 40]]\n",
      "              precision    recall  f1-score   support\n",
      "\n",
      "           0       0.75      0.82      0.79        40\n",
      "           1       0.85      0.78      0.82        51\n",
      "\n",
      "    accuracy                           0.80        91\n",
      "   macro avg       0.80      0.80      0.80        91\n",
      "weighted avg       0.81      0.80      0.80        91\n",
      "\n",
      "********************************************************************************\n",
      "                 BernoulliNB()\n",
      "Score = 0.8681318681318682\n",
      "[[33  7]\n",
      " [ 5 46]]\n",
      "              precision    recall  f1-score   support\n",
      "\n",
      "           0       0.87      0.82      0.85        40\n",
      "           1       0.87      0.90      0.88        51\n",
      "\n",
      "    accuracy                           0.87        91\n",
      "   macro avg       0.87      0.86      0.87        91\n",
      "weighted avg       0.87      0.87      0.87        91\n",
      "\n",
      "********************************************************************************\n",
      "                 GaussianProcessClassifier(max_iter_predict=10)\n",
      "Score = 0.7362637362637363\n",
      "[[28 12]\n",
      " [12 39]]\n",
      "              precision    recall  f1-score   support\n",
      "\n",
      "           0       0.70      0.70      0.70        40\n",
      "           1       0.76      0.76      0.76        51\n",
      "\n",
      "    accuracy                           0.74        91\n",
      "   macro avg       0.73      0.73      0.73        91\n",
      "weighted avg       0.74      0.74      0.74        91\n",
      "\n",
      "********************************************************************************\n",
      "                 DecisionTreeClassifier(criterion='entropy', max_depth=6, min_samples_split=8,\n",
      "                       splitter='random')\n",
      "Score = 0.7692307692307693\n",
      "[[32  8]\n",
      " [13 38]]\n",
      "              precision    recall  f1-score   support\n",
      "\n",
      "           0       0.71      0.80      0.75        40\n",
      "           1       0.83      0.75      0.78        51\n",
      "\n",
      "    accuracy                           0.77        91\n",
      "   macro avg       0.77      0.77      0.77        91\n",
      "weighted avg       0.78      0.77      0.77        91\n",
      "\n",
      "********************************************************************************\n",
      "                 RandomForestClassifier(max_depth=2, n_estimators=50)\n",
      "Score = 0.8571428571428571\n",
      "[[32  8]\n",
      " [ 5 46]]\n",
      "              precision    recall  f1-score   support\n",
      "\n",
      "           0       0.86      0.80      0.83        40\n",
      "           1       0.85      0.90      0.88        51\n",
      "\n",
      "    accuracy                           0.86        91\n",
      "   macro avg       0.86      0.85      0.85        91\n",
      "weighted avg       0.86      0.86      0.86        91\n",
      "\n",
      "********************************************************************************\n",
      "                 AdaBoostClassifier()\n",
      "Score = 0.7362637362637363\n",
      "[[28 12]\n",
      " [12 39]]\n",
      "              precision    recall  f1-score   support\n",
      "\n",
      "           0       0.70      0.70      0.70        40\n",
      "           1       0.76      0.76      0.76        51\n",
      "\n",
      "    accuracy                           0.74        91\n",
      "   macro avg       0.73      0.73      0.73        91\n",
      "weighted avg       0.74      0.74      0.74        91\n",
      "\n",
      "********************************************************************************\n",
      "                 QuadraticDiscriminantAnalysis()\n",
      "Score = 0.7692307692307693\n",
      "[[31  9]\n",
      " [12 39]]\n",
      "              precision    recall  f1-score   support\n",
      "\n",
      "           0       0.72      0.78      0.75        40\n",
      "           1       0.81      0.76      0.79        51\n",
      "\n",
      "    accuracy                           0.77        91\n",
      "   macro avg       0.77      0.77      0.77        91\n",
      "weighted avg       0.77      0.77      0.77        91\n",
      "\n",
      "********************************************************************************\n"
     ]
    },
    {
     "data": {
      "text/plain": [
       "[0.8131868131868132,\n",
       " 0.8021978021978022,\n",
       " 0.8241758241758241,\n",
       " 0.8131868131868132,\n",
       " 0.8021978021978022,\n",
       " 0.8681318681318682,\n",
       " 0.7362637362637363,\n",
       " 0.7692307692307693,\n",
       " 0.8571428571428571,\n",
       " 0.7362637362637363,\n",
       " 0.7692307692307693]"
      ]
     },
     "execution_count": 498,
     "metadata": {},
     "output_type": "execute_result"
    }
   ],
   "source": [
    "best_scores=[]\n",
    "bs=predict(classifiers,best_scores)\n",
    "bs"
   ]
  },
  {
   "cell_type": "markdown",
   "metadata": {
    "_cell_guid": "9792b677-da4e-48c3-ab51-0b1088a26876",
    "_uuid": "c2233fc0-a8bf-458f-a56d-66ad67cf2ffa"
   },
   "source": [
    "### KNN n_neighbors errors"
   ]
  },
  {
   "cell_type": "code",
   "execution_count": 499,
   "metadata": {
    "_cell_guid": "57ae687a-dabd-4f6f-abad-7989c1bd2d5c",
    "_uuid": "3ef404a6-2b65-46f5-8940-2f4e65728046",
    "collapsed": false,
    "execution": {
     "iopub.execute_input": "2021-09-25T16:23:06.299903Z",
     "iopub.status.busy": "2021-09-25T16:23:06.299530Z",
     "iopub.status.idle": "2021-09-25T16:23:06.731775Z",
     "shell.execute_reply": "2021-09-25T16:23:06.730588Z",
     "shell.execute_reply.started": "2021-09-25T16:23:06.299859Z"
    },
    "jupyter": {
     "outputs_hidden": false
    }
   },
   "outputs": [],
   "source": [
    "error_rate=[]\n",
    "for i in np.arange(50):\n",
    "    i+=1\n",
    "    knn_model=KNeighborsClassifier(n_neighbors=i)\n",
    "    knn_model.fit(X_train,y_train)\n",
    "    y_pred_i=knn_model.predict(X_test)\n",
    "    error_rate.append(np.mean(y_pred_i !=y_test))"
   ]
  },
  {
   "cell_type": "code",
   "execution_count": 500,
   "metadata": {
    "_cell_guid": "1e1aa780-933c-4d3b-9aa0-ec734c985749",
    "_uuid": "669cc63a-d631-4ad6-be2a-717879ed7a28",
    "collapsed": false,
    "execution": {
     "iopub.execute_input": "2021-09-25T16:23:06.733743Z",
     "iopub.status.busy": "2021-09-25T16:23:06.733474Z",
     "iopub.status.idle": "2021-09-25T16:23:06.820827Z",
     "shell.execute_reply": "2021-09-25T16:23:06.819626Z",
     "shell.execute_reply.started": "2021-09-25T16:23:06.733711Z"
    },
    "jupyter": {
     "outputs_hidden": false
    }
   },
   "outputs": [
    {
     "data": {
      "application/vnd.plotly.v1+json": {
       "config": {
        "plotlyServerURL": "https://plot.ly"
       },
       "data": [
        {
         "hovertemplate": "variable=0<br>index=%{x}<br>value=%{y}<extra></extra>",
         "legendgroup": "0",
         "line": {
          "color": "#636efa",
          "dash": "solid"
         },
         "marker": {
          "symbol": "circle"
         },
         "mode": "lines+markers",
         "name": "0",
         "orientation": "v",
         "showlegend": true,
         "type": "scatter",
         "x": [
          0,
          1,
          2,
          3,
          4,
          5,
          6,
          7,
          8,
          9,
          10,
          11,
          12,
          13,
          14,
          15,
          16,
          17,
          18,
          19,
          20,
          21,
          22,
          23,
          24,
          25,
          26,
          27,
          28,
          29,
          30,
          31,
          32,
          33,
          34,
          35,
          36,
          37,
          38,
          39,
          40,
          41,
          42,
          43,
          44,
          45,
          46,
          47,
          48,
          49
         ],
         "xaxis": "x",
         "y": [
          0.3076923076923077,
          0.3076923076923077,
          0.21978021978021978,
          0.21978021978021978,
          0.21978021978021978,
          0.27472527472527475,
          0.17582417582417584,
          0.2087912087912088,
          0.1978021978021978,
          0.1978021978021978,
          0.17582417582417584,
          0.18681318681318682,
          0.18681318681318682,
          0.1978021978021978,
          0.17582417582417584,
          0.21978021978021978,
          0.2087912087912088,
          0.1978021978021978,
          0.2087912087912088,
          0.18681318681318682,
          0.2087912087912088,
          0.18681318681318682,
          0.1978021978021978,
          0.14285714285714285,
          0.15384615384615385,
          0.16483516483516483,
          0.18681318681318682,
          0.17582417582417584,
          0.18681318681318682,
          0.17582417582417584,
          0.18681318681318682,
          0.17582417582417584,
          0.17582417582417584,
          0.17582417582417584,
          0.18681318681318682,
          0.18681318681318682,
          0.18681318681318682,
          0.16483516483516483,
          0.16483516483516483,
          0.16483516483516483,
          0.16483516483516483,
          0.16483516483516483,
          0.17582417582417584,
          0.16483516483516483,
          0.16483516483516483,
          0.16483516483516483,
          0.17582417582417584,
          0.17582417582417584,
          0.17582417582417584,
          0.17582417582417584
         ],
         "yaxis": "y"
        }
       ],
       "layout": {
        "autosize": true,
        "legend": {
         "title": {
          "text": "variable"
         },
         "tracegroupgap": 0
        },
        "template": {
         "data": {
          "bar": [
           {
            "error_x": {
             "color": "#2a3f5f"
            },
            "error_y": {
             "color": "#2a3f5f"
            },
            "marker": {
             "line": {
              "color": "#E5ECF6",
              "width": 0.5
             },
             "pattern": {
              "fillmode": "overlay",
              "size": 10,
              "solidity": 0.2
             }
            },
            "type": "bar"
           }
          ],
          "barpolar": [
           {
            "marker": {
             "line": {
              "color": "#E5ECF6",
              "width": 0.5
             },
             "pattern": {
              "fillmode": "overlay",
              "size": 10,
              "solidity": 0.2
             }
            },
            "type": "barpolar"
           }
          ],
          "carpet": [
           {
            "aaxis": {
             "endlinecolor": "#2a3f5f",
             "gridcolor": "white",
             "linecolor": "white",
             "minorgridcolor": "white",
             "startlinecolor": "#2a3f5f"
            },
            "baxis": {
             "endlinecolor": "#2a3f5f",
             "gridcolor": "white",
             "linecolor": "white",
             "minorgridcolor": "white",
             "startlinecolor": "#2a3f5f"
            },
            "type": "carpet"
           }
          ],
          "choropleth": [
           {
            "colorbar": {
             "outlinewidth": 0,
             "ticks": ""
            },
            "type": "choropleth"
           }
          ],
          "contour": [
           {
            "colorbar": {
             "outlinewidth": 0,
             "ticks": ""
            },
            "colorscale": [
             [
              0,
              "#0d0887"
             ],
             [
              0.1111111111111111,
              "#46039f"
             ],
             [
              0.2222222222222222,
              "#7201a8"
             ],
             [
              0.3333333333333333,
              "#9c179e"
             ],
             [
              0.4444444444444444,
              "#bd3786"
             ],
             [
              0.5555555555555556,
              "#d8576b"
             ],
             [
              0.6666666666666666,
              "#ed7953"
             ],
             [
              0.7777777777777778,
              "#fb9f3a"
             ],
             [
              0.8888888888888888,
              "#fdca26"
             ],
             [
              1,
              "#f0f921"
             ]
            ],
            "type": "contour"
           }
          ],
          "contourcarpet": [
           {
            "colorbar": {
             "outlinewidth": 0,
             "ticks": ""
            },
            "type": "contourcarpet"
           }
          ],
          "heatmap": [
           {
            "colorbar": {
             "outlinewidth": 0,
             "ticks": ""
            },
            "colorscale": [
             [
              0,
              "#0d0887"
             ],
             [
              0.1111111111111111,
              "#46039f"
             ],
             [
              0.2222222222222222,
              "#7201a8"
             ],
             [
              0.3333333333333333,
              "#9c179e"
             ],
             [
              0.4444444444444444,
              "#bd3786"
             ],
             [
              0.5555555555555556,
              "#d8576b"
             ],
             [
              0.6666666666666666,
              "#ed7953"
             ],
             [
              0.7777777777777778,
              "#fb9f3a"
             ],
             [
              0.8888888888888888,
              "#fdca26"
             ],
             [
              1,
              "#f0f921"
             ]
            ],
            "type": "heatmap"
           }
          ],
          "heatmapgl": [
           {
            "colorbar": {
             "outlinewidth": 0,
             "ticks": ""
            },
            "colorscale": [
             [
              0,
              "#0d0887"
             ],
             [
              0.1111111111111111,
              "#46039f"
             ],
             [
              0.2222222222222222,
              "#7201a8"
             ],
             [
              0.3333333333333333,
              "#9c179e"
             ],
             [
              0.4444444444444444,
              "#bd3786"
             ],
             [
              0.5555555555555556,
              "#d8576b"
             ],
             [
              0.6666666666666666,
              "#ed7953"
             ],
             [
              0.7777777777777778,
              "#fb9f3a"
             ],
             [
              0.8888888888888888,
              "#fdca26"
             ],
             [
              1,
              "#f0f921"
             ]
            ],
            "type": "heatmapgl"
           }
          ],
          "histogram": [
           {
            "marker": {
             "pattern": {
              "fillmode": "overlay",
              "size": 10,
              "solidity": 0.2
             }
            },
            "type": "histogram"
           }
          ],
          "histogram2d": [
           {
            "colorbar": {
             "outlinewidth": 0,
             "ticks": ""
            },
            "colorscale": [
             [
              0,
              "#0d0887"
             ],
             [
              0.1111111111111111,
              "#46039f"
             ],
             [
              0.2222222222222222,
              "#7201a8"
             ],
             [
              0.3333333333333333,
              "#9c179e"
             ],
             [
              0.4444444444444444,
              "#bd3786"
             ],
             [
              0.5555555555555556,
              "#d8576b"
             ],
             [
              0.6666666666666666,
              "#ed7953"
             ],
             [
              0.7777777777777778,
              "#fb9f3a"
             ],
             [
              0.8888888888888888,
              "#fdca26"
             ],
             [
              1,
              "#f0f921"
             ]
            ],
            "type": "histogram2d"
           }
          ],
          "histogram2dcontour": [
           {
            "colorbar": {
             "outlinewidth": 0,
             "ticks": ""
            },
            "colorscale": [
             [
              0,
              "#0d0887"
             ],
             [
              0.1111111111111111,
              "#46039f"
             ],
             [
              0.2222222222222222,
              "#7201a8"
             ],
             [
              0.3333333333333333,
              "#9c179e"
             ],
             [
              0.4444444444444444,
              "#bd3786"
             ],
             [
              0.5555555555555556,
              "#d8576b"
             ],
             [
              0.6666666666666666,
              "#ed7953"
             ],
             [
              0.7777777777777778,
              "#fb9f3a"
             ],
             [
              0.8888888888888888,
              "#fdca26"
             ],
             [
              1,
              "#f0f921"
             ]
            ],
            "type": "histogram2dcontour"
           }
          ],
          "mesh3d": [
           {
            "colorbar": {
             "outlinewidth": 0,
             "ticks": ""
            },
            "type": "mesh3d"
           }
          ],
          "parcoords": [
           {
            "line": {
             "colorbar": {
              "outlinewidth": 0,
              "ticks": ""
             }
            },
            "type": "parcoords"
           }
          ],
          "pie": [
           {
            "automargin": true,
            "type": "pie"
           }
          ],
          "scatter": [
           {
            "marker": {
             "colorbar": {
              "outlinewidth": 0,
              "ticks": ""
             }
            },
            "type": "scatter"
           }
          ],
          "scatter3d": [
           {
            "line": {
             "colorbar": {
              "outlinewidth": 0,
              "ticks": ""
             }
            },
            "marker": {
             "colorbar": {
              "outlinewidth": 0,
              "ticks": ""
             }
            },
            "type": "scatter3d"
           }
          ],
          "scattercarpet": [
           {
            "marker": {
             "colorbar": {
              "outlinewidth": 0,
              "ticks": ""
             }
            },
            "type": "scattercarpet"
           }
          ],
          "scattergeo": [
           {
            "marker": {
             "colorbar": {
              "outlinewidth": 0,
              "ticks": ""
             }
            },
            "type": "scattergeo"
           }
          ],
          "scattergl": [
           {
            "marker": {
             "colorbar": {
              "outlinewidth": 0,
              "ticks": ""
             }
            },
            "type": "scattergl"
           }
          ],
          "scattermapbox": [
           {
            "marker": {
             "colorbar": {
              "outlinewidth": 0,
              "ticks": ""
             }
            },
            "type": "scattermapbox"
           }
          ],
          "scatterpolar": [
           {
            "marker": {
             "colorbar": {
              "outlinewidth": 0,
              "ticks": ""
             }
            },
            "type": "scatterpolar"
           }
          ],
          "scatterpolargl": [
           {
            "marker": {
             "colorbar": {
              "outlinewidth": 0,
              "ticks": ""
             }
            },
            "type": "scatterpolargl"
           }
          ],
          "scatterternary": [
           {
            "marker": {
             "colorbar": {
              "outlinewidth": 0,
              "ticks": ""
             }
            },
            "type": "scatterternary"
           }
          ],
          "surface": [
           {
            "colorbar": {
             "outlinewidth": 0,
             "ticks": ""
            },
            "colorscale": [
             [
              0,
              "#0d0887"
             ],
             [
              0.1111111111111111,
              "#46039f"
             ],
             [
              0.2222222222222222,
              "#7201a8"
             ],
             [
              0.3333333333333333,
              "#9c179e"
             ],
             [
              0.4444444444444444,
              "#bd3786"
             ],
             [
              0.5555555555555556,
              "#d8576b"
             ],
             [
              0.6666666666666666,
              "#ed7953"
             ],
             [
              0.7777777777777778,
              "#fb9f3a"
             ],
             [
              0.8888888888888888,
              "#fdca26"
             ],
             [
              1,
              "#f0f921"
             ]
            ],
            "type": "surface"
           }
          ],
          "table": [
           {
            "cells": {
             "fill": {
              "color": "#EBF0F8"
             },
             "line": {
              "color": "white"
             }
            },
            "header": {
             "fill": {
              "color": "#C8D4E3"
             },
             "line": {
              "color": "white"
             }
            },
            "type": "table"
           }
          ]
         },
         "layout": {
          "annotationdefaults": {
           "arrowcolor": "#2a3f5f",
           "arrowhead": 0,
           "arrowwidth": 1
          },
          "autotypenumbers": "strict",
          "coloraxis": {
           "colorbar": {
            "outlinewidth": 0,
            "ticks": ""
           }
          },
          "colorscale": {
           "diverging": [
            [
             0,
             "#8e0152"
            ],
            [
             0.1,
             "#c51b7d"
            ],
            [
             0.2,
             "#de77ae"
            ],
            [
             0.3,
             "#f1b6da"
            ],
            [
             0.4,
             "#fde0ef"
            ],
            [
             0.5,
             "#f7f7f7"
            ],
            [
             0.6,
             "#e6f5d0"
            ],
            [
             0.7,
             "#b8e186"
            ],
            [
             0.8,
             "#7fbc41"
            ],
            [
             0.9,
             "#4d9221"
            ],
            [
             1,
             "#276419"
            ]
           ],
           "sequential": [
            [
             0,
             "#0d0887"
            ],
            [
             0.1111111111111111,
             "#46039f"
            ],
            [
             0.2222222222222222,
             "#7201a8"
            ],
            [
             0.3333333333333333,
             "#9c179e"
            ],
            [
             0.4444444444444444,
             "#bd3786"
            ],
            [
             0.5555555555555556,
             "#d8576b"
            ],
            [
             0.6666666666666666,
             "#ed7953"
            ],
            [
             0.7777777777777778,
             "#fb9f3a"
            ],
            [
             0.8888888888888888,
             "#fdca26"
            ],
            [
             1,
             "#f0f921"
            ]
           ],
           "sequentialminus": [
            [
             0,
             "#0d0887"
            ],
            [
             0.1111111111111111,
             "#46039f"
            ],
            [
             0.2222222222222222,
             "#7201a8"
            ],
            [
             0.3333333333333333,
             "#9c179e"
            ],
            [
             0.4444444444444444,
             "#bd3786"
            ],
            [
             0.5555555555555556,
             "#d8576b"
            ],
            [
             0.6666666666666666,
             "#ed7953"
            ],
            [
             0.7777777777777778,
             "#fb9f3a"
            ],
            [
             0.8888888888888888,
             "#fdca26"
            ],
            [
             1,
             "#f0f921"
            ]
           ]
          },
          "colorway": [
           "#636efa",
           "#EF553B",
           "#00cc96",
           "#ab63fa",
           "#FFA15A",
           "#19d3f3",
           "#FF6692",
           "#B6E880",
           "#FF97FF",
           "#FECB52"
          ],
          "font": {
           "color": "#2a3f5f"
          },
          "geo": {
           "bgcolor": "white",
           "lakecolor": "white",
           "landcolor": "#E5ECF6",
           "showlakes": true,
           "showland": true,
           "subunitcolor": "white"
          },
          "hoverlabel": {
           "align": "left"
          },
          "hovermode": "closest",
          "mapbox": {
           "style": "light"
          },
          "paper_bgcolor": "white",
          "plot_bgcolor": "#E5ECF6",
          "polar": {
           "angularaxis": {
            "gridcolor": "white",
            "linecolor": "white",
            "ticks": ""
           },
           "bgcolor": "#E5ECF6",
           "radialaxis": {
            "gridcolor": "white",
            "linecolor": "white",
            "ticks": ""
           }
          },
          "scene": {
           "xaxis": {
            "backgroundcolor": "#E5ECF6",
            "gridcolor": "white",
            "gridwidth": 2,
            "linecolor": "white",
            "showbackground": true,
            "ticks": "",
            "zerolinecolor": "white"
           },
           "yaxis": {
            "backgroundcolor": "#E5ECF6",
            "gridcolor": "white",
            "gridwidth": 2,
            "linecolor": "white",
            "showbackground": true,
            "ticks": "",
            "zerolinecolor": "white"
           },
           "zaxis": {
            "backgroundcolor": "#E5ECF6",
            "gridcolor": "white",
            "gridwidth": 2,
            "linecolor": "white",
            "showbackground": true,
            "ticks": "",
            "zerolinecolor": "white"
           }
          },
          "shapedefaults": {
           "line": {
            "color": "#2a3f5f"
           }
          },
          "ternary": {
           "aaxis": {
            "gridcolor": "white",
            "linecolor": "white",
            "ticks": ""
           },
           "baxis": {
            "gridcolor": "white",
            "linecolor": "white",
            "ticks": ""
           },
           "bgcolor": "#E5ECF6",
           "caxis": {
            "gridcolor": "white",
            "linecolor": "white",
            "ticks": ""
           }
          },
          "title": {
           "x": 0.05
          },
          "xaxis": {
           "automargin": true,
           "gridcolor": "white",
           "linecolor": "white",
           "ticks": "",
           "title": {
            "standoff": 15
           },
           "zerolinecolor": "white",
           "zerolinewidth": 2
          },
          "yaxis": {
           "automargin": true,
           "gridcolor": "white",
           "linecolor": "white",
           "ticks": "",
           "title": {
            "standoff": 15
           },
           "zerolinecolor": "white",
           "zerolinewidth": 2
          }
         }
        },
        "title": {
         "text": "Error Rate"
        },
        "xaxis": {
         "anchor": "y",
         "autorange": true,
         "domain": [
          0,
          1
         ],
         "range": [
          -2.906255633675861,
          51.90625563367586
         ],
         "title": {
          "text": "index"
         },
         "type": "linear"
        },
        "yaxis": {
         "anchor": "x",
         "autorange": true,
         "domain": [
          0,
          1
         ],
         "range": [
          0.13078322950934415,
          0.31976622104010644
         ],
         "title": {
          "text": "value"
         },
         "type": "linear"
        }
       }
      },
      "image/png": "[encoded data removed]",
      "text/html": [
       "<div>                            <div id=\"e2d9dd18-3cb1-47d4-97fa-7c890b74e174\" class=\"plotly-graph-div\" style=\"height:525px; width:100%;\"></div>            <script type=\"text/javascript\">                require([\"plotly\"], function(Plotly) {                    window.PLOTLYENV=window.PLOTLYENV || {};                                    if (document.getElementById(\"e2d9dd18-3cb1-47d4-97fa-7c890b74e174\")) {                    Plotly.newPlot(                        \"e2d9dd18-3cb1-47d4-97fa-7c890b74e174\",                        [{\"hovertemplate\":\"variable=0<br>index=%{x}<br>value=%{y}<extra></extra>\",\"legendgroup\":\"0\",\"line\":{\"color\":\"#636efa\",\"dash\":\"solid\"},\"marker\":{\"symbol\":\"circle\"},\"mode\":\"lines+markers\",\"name\":\"0\",\"orientation\":\"v\",\"showlegend\":true,\"type\":\"scatter\",\"x\":[0,1,2,3,4,5,6,7,8,9,10,11,12,13,14,15,16,17,18,19,20,21,22,23,24,25,26,27,28,29,30,31,32,33,34,35,36,37,38,39,40,41,42,43,44,45,46,47,48,49],\"xaxis\":\"x\",\"y\":[0.3076923076923077,0.3076923076923077,0.21978021978021978,0.21978021978021978,0.21978021978021978,0.27472527472527475,0.17582417582417584,0.2087912087912088,0.1978021978021978,0.1978021978021978,0.17582417582417584,0.18681318681318682,0.18681318681318682,0.1978021978021978,0.17582417582417584,0.21978021978021978,0.2087912087912088,0.1978021978021978,0.2087912087912088,0.18681318681318682,0.2087912087912088,0.18681318681318682,0.1978021978021978,0.14285714285714285,0.15384615384615385,0.16483516483516483,0.18681318681318682,0.17582417582417584,0.18681318681318682,0.17582417582417584,0.18681318681318682,0.17582417582417584,0.17582417582417584,0.17582417582417584,0.18681318681318682,0.18681318681318682,0.18681318681318682,0.16483516483516483,0.16483516483516483,0.16483516483516483,0.16483516483516483,0.16483516483516483,0.17582417582417584,0.16483516483516483,0.16483516483516483,0.16483516483516483,0.17582417582417584,0.17582417582417584,0.17582417582417584,0.17582417582417584],\"yaxis\":\"y\"}],                        {\"legend\":{\"title\":{\"text\":\"variable\"},\"tracegroupgap\":0},\"template\":{\"data\":{\"bar\":[{\"error_x\":{\"color\":\"#2a3f5f\"},\"error_y\":{\"color\":\"#2a3f5f\"},\"marker\":{\"line\":{\"color\":\"#E5ECF6\",\"width\":0.5},\"pattern\":{\"fillmode\":\"overlay\",\"size\":10,\"solidity\":0.2}},\"type\":\"bar\"}],\"barpolar\":[{\"marker\":{\"line\":{\"color\":\"#E5ECF6\",\"width\":0.5},\"pattern\":{\"fillmode\":\"overlay\",\"size\":10,\"solidity\":0.2}},\"type\":\"barpolar\"}],\"carpet\":[{\"aaxis\":{\"endlinecolor\":\"#2a3f5f\",\"gridcolor\":\"white\",\"linecolor\":\"white\",\"minorgridcolor\":\"white\",\"startlinecolor\":\"#2a3f5f\"},\"baxis\":{\"endlinecolor\":\"#2a3f5f\",\"gridcolor\":\"white\",\"linecolor\":\"white\",\"minorgridcolor\":\"white\",\"startlinecolor\":\"#2a3f5f\"},\"type\":\"carpet\"}],\"choropleth\":[{\"colorbar\":{\"outlinewidth\":0,\"ticks\":\"\"},\"type\":\"choropleth\"}],\"contour\":[{\"colorbar\":{\"outlinewidth\":0,\"ticks\":\"\"},\"colorscale\":[[0.0,\"#0d0887\"],[0.1111111111111111,\"#46039f\"],[0.2222222222222222,\"#7201a8\"],[0.3333333333333333,\"#9c179e\"],[0.4444444444444444,\"#bd3786\"],[0.5555555555555556,\"#d8576b\"],[0.6666666666666666,\"#ed7953\"],[0.7777777777777778,\"#fb9f3a\"],[0.8888888888888888,\"#fdca26\"],[1.0,\"#f0f921\"]],\"type\":\"contour\"}],\"contourcarpet\":[{\"colorbar\":{\"outlinewidth\":0,\"ticks\":\"\"},\"type\":\"contourcarpet\"}],\"heatmap\":[{\"colorbar\":{\"outlinewidth\":0,\"ticks\":\"\"},\"colorscale\":[[0.0,\"#0d0887\"],[0.1111111111111111,\"#46039f\"],[0.2222222222222222,\"#7201a8\"],[0.3333333333333333,\"#9c179e\"],[0.4444444444444444,\"#bd3786\"],[0.5555555555555556,\"#d8576b\"],[0.6666666666666666,\"#ed7953\"],[0.7777777777777778,\"#fb9f3a\"],[0.8888888888888888,\"#fdca26\"],[1.0,\"#f0f921\"]],\"type\":\"heatmap\"}],\"heatmapgl\":[{\"colorbar\":{\"outlinewidth\":0,\"ticks\":\"\"},\"colorscale\":[[0.0,\"#0d0887\"],[0.1111111111111111,\"#46039f\"],[0.2222222222222222,\"#7201a8\"],[0.3333333333333333,\"#9c179e\"],[0.4444444444444444,\"#bd3786\"],[0.5555555555555556,\"#d8576b\"],[0.6666666666666666,\"#ed7953\"],[0.7777777777777778,\"#fb9f3a\"],[0.8888888888888888,\"#fdca26\"],[1.0,\"#f0f921\"]],\"type\":\"heatmapgl\"}],\"histogram\":[{\"marker\":{\"pattern\":{\"fillmode\":\"overlay\",\"size\":10,\"solidity\":0.2}},\"type\":\"histogram\"}],\"histogram2d\":[{\"colorbar\":{\"outlinewidth\":0,\"ticks\":\"\"},\"colorscale\":[[0.0,\"#0d0887\"],[0.1111111111111111,\"#46039f\"],[0.2222222222222222,\"#7201a8\"],[0.3333333333333333,\"#9c179e\"],[0.4444444444444444,\"#bd3786\"],[0.5555555555555556,\"#d8576b\"],[0.6666666666666666,\"#ed7953\"],[0.7777777777777778,\"#fb9f3a\"],[0.8888888888888888,\"#fdca26\"],[1.0,\"#f0f921\"]],\"type\":\"histogram2d\"}],\"histogram2dcontour\":[{\"colorbar\":{\"outlinewidth\":0,\"ticks\":\"\"},\"colorscale\":[[0.0,\"#0d0887\"],[0.1111111111111111,\"#46039f\"],[0.2222222222222222,\"#7201a8\"],[0.3333333333333333,\"#9c179e\"],[0.4444444444444444,\"#bd3786\"],[0.5555555555555556,\"#d8576b\"],[0.6666666666666666,\"#ed7953\"],[0.7777777777777778,\"#fb9f3a\"],[0.8888888888888888,\"#fdca26\"],[1.0,\"#f0f921\"]],\"type\":\"histogram2dcontour\"}],\"mesh3d\":[{\"colorbar\":{\"outlinewidth\":0,\"ticks\":\"\"},\"type\":\"mesh3d\"}],\"parcoords\":[{\"line\":{\"colorbar\":{\"outlinewidth\":0,\"ticks\":\"\"}},\"type\":\"parcoords\"}],\"pie\":[{\"automargin\":true,\"type\":\"pie\"}],\"scatter\":[{\"marker\":{\"colorbar\":{\"outlinewidth\":0,\"ticks\":\"\"}},\"type\":\"scatter\"}],\"scatter3d\":[{\"line\":{\"colorbar\":{\"outlinewidth\":0,\"ticks\":\"\"}},\"marker\":{\"colorbar\":{\"outlinewidth\":0,\"ticks\":\"\"}},\"type\":\"scatter3d\"}],\"scattercarpet\":[{\"marker\":{\"colorbar\":{\"outlinewidth\":0,\"ticks\":\"\"}},\"type\":\"scattercarpet\"}],\"scattergeo\":[{\"marker\":{\"colorbar\":{\"outlinewidth\":0,\"ticks\":\"\"}},\"type\":\"scattergeo\"}],\"scattergl\":[{\"marker\":{\"colorbar\":{\"outlinewidth\":0,\"ticks\":\"\"}},\"type\":\"scattergl\"}],\"scattermapbox\":[{\"marker\":{\"colorbar\":{\"outlinewidth\":0,\"ticks\":\"\"}},\"type\":\"scattermapbox\"}],\"scatterpolar\":[{\"marker\":{\"colorbar\":{\"outlinewidth\":0,\"ticks\":\"\"}},\"type\":\"scatterpolar\"}],\"scatterpolargl\":[{\"marker\":{\"colorbar\":{\"outlinewidth\":0,\"ticks\":\"\"}},\"type\":\"scatterpolargl\"}],\"scatterternary\":[{\"marker\":{\"colorbar\":{\"outlinewidth\":0,\"ticks\":\"\"}},\"type\":\"scatterternary\"}],\"surface\":[{\"colorbar\":{\"outlinewidth\":0,\"ticks\":\"\"},\"colorscale\":[[0.0,\"#0d0887\"],[0.1111111111111111,\"#46039f\"],[0.2222222222222222,\"#7201a8\"],[0.3333333333333333,\"#9c179e\"],[0.4444444444444444,\"#bd3786\"],[0.5555555555555556,\"#d8576b\"],[0.6666666666666666,\"#ed7953\"],[0.7777777777777778,\"#fb9f3a\"],[0.8888888888888888,\"#fdca26\"],[1.0,\"#f0f921\"]],\"type\":\"surface\"}],\"table\":[{\"cells\":{\"fill\":{\"color\":\"#EBF0F8\"},\"line\":{\"color\":\"white\"}},\"header\":{\"fill\":{\"color\":\"#C8D4E3\"},\"line\":{\"color\":\"white\"}},\"type\":\"table\"}]},\"layout\":{\"annotationdefaults\":{\"arrowcolor\":\"#2a3f5f\",\"arrowhead\":0,\"arrowwidth\":1},\"autotypenumbers\":\"strict\",\"coloraxis\":{\"colorbar\":{\"outlinewidth\":0,\"ticks\":\"\"}},\"colorscale\":{\"diverging\":[[0,\"#8e0152\"],[0.1,\"#c51b7d\"],[0.2,\"#de77ae\"],[0.3,\"#f1b6da\"],[0.4,\"#fde0ef\"],[0.5,\"#f7f7f7\"],[0.6,\"#e6f5d0\"],[0.7,\"#b8e186\"],[0.8,\"#7fbc41\"],[0.9,\"#4d9221\"],[1,\"#276419\"]],\"sequential\":[[0.0,\"#0d0887\"],[0.1111111111111111,\"#46039f\"],[0.2222222222222222,\"#7201a8\"],[0.3333333333333333,\"#9c179e\"],[0.4444444444444444,\"#bd3786\"],[0.5555555555555556,\"#d8576b\"],[0.6666666666666666,\"#ed7953\"],[0.7777777777777778,\"#fb9f3a\"],[0.8888888888888888,\"#fdca26\"],[1.0,\"#f0f921\"]],\"sequentialminus\":[[0.0,\"#0d0887\"],[0.1111111111111111,\"#46039f\"],[0.2222222222222222,\"#7201a8\"],[0.3333333333333333,\"#9c179e\"],[0.4444444444444444,\"#bd3786\"],[0.5555555555555556,\"#d8576b\"],[0.6666666666666666,\"#ed7953\"],[0.7777777777777778,\"#fb9f3a\"],[0.8888888888888888,\"#fdca26\"],[1.0,\"#f0f921\"]]},\"colorway\":[\"#636efa\",\"#EF553B\",\"#00cc96\",\"#ab63fa\",\"#FFA15A\",\"#19d3f3\",\"#FF6692\",\"#B6E880\",\"#FF97FF\",\"#FECB52\"],\"font\":{\"color\":\"#2a3f5f\"},\"geo\":{\"bgcolor\":\"white\",\"lakecolor\":\"white\",\"landcolor\":\"#E5ECF6\",\"showlakes\":true,\"showland\":true,\"subunitcolor\":\"white\"},\"hoverlabel\":{\"align\":\"left\"},\"hovermode\":\"closest\",\"mapbox\":{\"style\":\"light\"},\"paper_bgcolor\":\"white\",\"plot_bgcolor\":\"#E5ECF6\",\"polar\":{\"angularaxis\":{\"gridcolor\":\"white\",\"linecolor\":\"white\",\"ticks\":\"\"},\"bgcolor\":\"#E5ECF6\",\"radialaxis\":{\"gridcolor\":\"white\",\"linecolor\":\"white\",\"ticks\":\"\"}},\"scene\":{\"xaxis\":{\"backgroundcolor\":\"#E5ECF6\",\"gridcolor\":\"white\",\"gridwidth\":2,\"linecolor\":\"white\",\"showbackground\":true,\"ticks\":\"\",\"zerolinecolor\":\"white\"},\"yaxis\":{\"backgroundcolor\":\"#E5ECF6\",\"gridcolor\":\"white\",\"gridwidth\":2,\"linecolor\":\"white\",\"showbackground\":true,\"ticks\":\"\",\"zerolinecolor\":\"white\"},\"zaxis\":{\"backgroundcolor\":\"#E5ECF6\",\"gridcolor\":\"white\",\"gridwidth\":2,\"linecolor\":\"white\",\"showbackground\":true,\"ticks\":\"\",\"zerolinecolor\":\"white\"}},\"shapedefaults\":{\"line\":{\"color\":\"#2a3f5f\"}},\"ternary\":{\"aaxis\":{\"gridcolor\":\"white\",\"linecolor\":\"white\",\"ticks\":\"\"},\"baxis\":{\"gridcolor\":\"white\",\"linecolor\":\"white\",\"ticks\":\"\"},\"bgcolor\":\"#E5ECF6\",\"caxis\":{\"gridcolor\":\"white\",\"linecolor\":\"white\",\"ticks\":\"\"}},\"title\":{\"x\":0.05},\"xaxis\":{\"automargin\":true,\"gridcolor\":\"white\",\"linecolor\":\"white\",\"ticks\":\"\",\"title\":{\"standoff\":15},\"zerolinecolor\":\"white\",\"zerolinewidth\":2},\"yaxis\":{\"automargin\":true,\"gridcolor\":\"white\",\"linecolor\":\"white\",\"ticks\":\"\",\"title\":{\"standoff\":15},\"zerolinecolor\":\"white\",\"zerolinewidth\":2}}},\"title\":{\"text\":\"Error Rate\"},\"xaxis\":{\"anchor\":\"y\",\"domain\":[0.0,1.0],\"title\":{\"text\":\"index\"}},\"yaxis\":{\"anchor\":\"x\",\"domain\":[0.0,1.0],\"title\":{\"text\":\"value\"}}},                        {\"responsive\": true}                    ).then(function(){\n",
       "                            \n",
       "var gd = document.getElementById('e2d9dd18-3cb1-47d4-97fa-7c890b74e174');\n",
       "var x = new MutationObserver(function (mutations, observer) {{\n",
       "        var display = window.getComputedStyle(gd).display;\n",
       "        if (!display || display === 'none') {{\n",
       "            console.log([gd, 'removed!']);\n",
       "            Plotly.purge(gd);\n",
       "            observer.disconnect();\n",
       "        }}\n",
       "}});\n",
       "\n",
       "// Listen for the removal of the full notebook cells\n",
       "var notebookContainer = gd.closest('#notebook-container');\n",
       "if (notebookContainer) {{\n",
       "    x.observe(notebookContainer, {childList: true});\n",
       "}}\n",
       "\n",
       "// Listen for the clearing of the current output cell\n",
       "var outputEl = gd.closest('.output');\n",
       "if (outputEl) {{\n",
       "    x.observe(outputEl, {childList: true});\n",
       "}}\n",
       "\n",
       "                        })                };                });            </script>        </div>"
      ]
     },
     "metadata": {},
     "output_type": "display_data"
    }
   ],
   "source": [
    "import plotly.express as px\n",
    "\n",
    "fig = px.line(pd.DataFrame(error_rate),markers=True,title='Error Rate')\n",
    "\n",
    "fig.show()"
   ]
  },
  {
   "cell_type": "markdown",
   "metadata": {},
   "source": [
    "# Comparing Classifiers with Default and Alternate Params"
   ]
  },
  {
   "cell_type": "code",
   "execution_count": 501,
   "metadata": {
    "execution": {
     "iopub.execute_input": "2021-09-25T16:23:06.824388Z",
     "iopub.status.busy": "2021-09-25T16:23:06.822666Z",
     "iopub.status.idle": "2021-09-25T16:23:06.832735Z",
     "shell.execute_reply": "2021-09-25T16:23:06.831559Z",
     "shell.execute_reply.started": "2021-09-25T16:23:06.824334Z"
    }
   },
   "outputs": [],
   "source": [
    "classifiers=['LogisticRegression',\n",
    "             'KNeighborsClassifier',\n",
    "             'SVC(rbf)',\n",
    "             'SVC(linear)',\n",
    "             'GaussianNB',\n",
    "             'BernoulliNB',\n",
    "             'GaussianProcessClassifier',\n",
    "             'DecisionTreeClassifier',\n",
    "             'RandomForestClassifier',\n",
    "             'AdaBoostClassifier',\n",
    "             'QuadraticDiscriminantAnalysis']\n",
    "df2=pd.DataFrame({'Default Params Score':ds,'Alternate Params Score':bs},index=classifiers)"
   ]
  },
  {
   "cell_type": "markdown",
   "metadata": {},
   "source": [
    "##### **Note that the parameters coming from gridsearch is not always best. Sometimes they predict worse than default parameters.**\n",
    "##### **It depends on method, data, random state etc.**"
   ]
  },
  {
   "cell_type": "code",
   "execution_count": 502,
   "metadata": {
    "execution": {
     "iopub.execute_input": "2021-09-25T16:23:06.834840Z",
     "iopub.status.busy": "2021-09-25T16:23:06.834567Z",
     "iopub.status.idle": "2021-09-25T16:23:06.856794Z",
     "shell.execute_reply": "2021-09-25T16:23:06.856063Z",
     "shell.execute_reply.started": "2021-09-25T16:23:06.834811Z"
    }
   },
   "outputs": [
    {
     "data": {
      "text/html": [
       "<div>\n",
       "<style scoped>\n",
       "    .dataframe tbody tr th:only-of-type {\n",
       "        vertical-align: middle;\n",
       "    }\n",
       "\n",
       "    .dataframe tbody tr th {\n",
       "        vertical-align: top;\n",
       "    }\n",
       "\n",
       "    .dataframe thead th {\n",
       "        text-align: right;\n",
       "    }\n",
       "</style>\n",
       "<table border=\"1\" class=\"dataframe\">\n",
       "  <thead>\n",
       "    <tr style=\"text-align: right;\">\n",
       "      <th></th>\n",
       "      <th>Default Params Score</th>\n",
       "      <th>Alternate Params Score</th>\n",
       "    </tr>\n",
       "  </thead>\n",
       "  <tbody>\n",
       "    <tr>\n",
       "      <th>LogisticRegression</th>\n",
       "      <td>0.791209</td>\n",
       "      <td>0.813187</td>\n",
       "    </tr>\n",
       "    <tr>\n",
       "      <th>KNeighborsClassifier</th>\n",
       "      <td>0.780220</td>\n",
       "      <td>0.802198</td>\n",
       "    </tr>\n",
       "    <tr>\n",
       "      <th>SVC(rbf)</th>\n",
       "      <td>0.813187</td>\n",
       "      <td>0.824176</td>\n",
       "    </tr>\n",
       "    <tr>\n",
       "      <th>SVC(linear)</th>\n",
       "      <td>0.802198</td>\n",
       "      <td>0.813187</td>\n",
       "    </tr>\n",
       "    <tr>\n",
       "      <th>GaussianNB</th>\n",
       "      <td>0.802198</td>\n",
       "      <td>0.802198</td>\n",
       "    </tr>\n",
       "    <tr>\n",
       "      <th>BernoulliNB</th>\n",
       "      <td>0.868132</td>\n",
       "      <td>0.868132</td>\n",
       "    </tr>\n",
       "    <tr>\n",
       "      <th>GaussianProcessClassifier</th>\n",
       "      <td>0.736264</td>\n",
       "      <td>0.736264</td>\n",
       "    </tr>\n",
       "    <tr>\n",
       "      <th>DecisionTreeClassifier</th>\n",
       "      <td>0.747253</td>\n",
       "      <td>0.769231</td>\n",
       "    </tr>\n",
       "    <tr>\n",
       "      <th>RandomForestClassifier</th>\n",
       "      <td>0.802198</td>\n",
       "      <td>0.857143</td>\n",
       "    </tr>\n",
       "    <tr>\n",
       "      <th>AdaBoostClassifier</th>\n",
       "      <td>0.736264</td>\n",
       "      <td>0.736264</td>\n",
       "    </tr>\n",
       "    <tr>\n",
       "      <th>QuadraticDiscriminantAnalysis</th>\n",
       "      <td>0.769231</td>\n",
       "      <td>0.769231</td>\n",
       "    </tr>\n",
       "  </tbody>\n",
       "</table>\n",
       "</div>"
      ],
      "text/plain": [
       "                               Default Params Score  Alternate Params Score\n",
       "LogisticRegression                         0.791209                0.813187\n",
       "KNeighborsClassifier                       0.780220                0.802198\n",
       "SVC(rbf)                                   0.813187                0.824176\n",
       "SVC(linear)                                0.802198                0.813187\n",
       "GaussianNB                                 0.802198                0.802198\n",
       "BernoulliNB                                0.868132                0.868132\n",
       "GaussianProcessClassifier                  0.736264                0.736264\n",
       "DecisionTreeClassifier                     0.747253                0.769231\n",
       "RandomForestClassifier                     0.802198                0.857143\n",
       "AdaBoostClassifier                         0.736264                0.736264\n",
       "QuadraticDiscriminantAnalysis              0.769231                0.769231"
      ]
     },
     "execution_count": 502,
     "metadata": {},
     "output_type": "execute_result"
    }
   ],
   "source": [
    "df2"
   ]
  },
  {
   "cell_type": "markdown",
   "metadata": {},
   "source": [
    "### Bar Plot of Classifiers Score"
   ]
  },
  {
   "cell_type": "code",
   "execution_count": 503,
   "metadata": {
    "execution": {
     "iopub.execute_input": "2021-09-25T16:23:06.858830Z",
     "iopub.status.busy": "2021-09-25T16:23:06.858269Z",
     "iopub.status.idle": "2021-09-25T16:23:07.603860Z",
     "shell.execute_reply": "2021-09-25T16:23:07.602985Z",
     "shell.execute_reply.started": "2021-09-25T16:23:06.858795Z"
    }
   },
   "outputs": [
    {
     "data": {
      "image/png": "[encoded data removed]",
      "text/plain": [
       "<Figure size 1080x864 with 2 Axes>"
      ]
     },
     "metadata": {},
     "output_type": "display_data"
    }
   ],
   "source": [
    "\n",
    "fig, axes = plt.subplots(ncols=1,nrows=2,figsize=(15,12))\n",
    "\n",
    "\n",
    "sns.barplot(y=df2.index,x='Default Params Score',data=df2*100,color='#ff1010',alpha=.75,ax=axes[0])\n",
    "sns.barplot(y=df2.index,x='Alternate Params Score',data=df2*100,color='#1010ff',alpha=.75,ax=axes[1]);\n",
    "for i in range (len(axes)):\n",
    "    for p in axes[i].patches:\n",
    "        x = p.get_x() + p.get_width()+.5\n",
    "        y = p.get_y() + p.get_height()-.3\n",
    "        value = int(p.get_width())\n",
    "        axes[i].text(x, y, value, ha=\"left\",fontsize=10,bbox=dict(facecolor='#ccddee', edgecolor='black',boxstyle='circle', linewidth=0.45))\n",
    "\n"
   ]
  }
 ],
 "metadata": {
  "kernelspec": {
   "display_name": "Python 3 (ipykernel)",
   "language": "python",
   "name": "python3"
  },
  "language_info": {
   "codemirror_mode": {
    "name": "ipython",
    "version": 3
   },
   "file_extension": ".py",
   "mimetype": "text/x-python",
   "name": "python",
   "nbconvert_exporter": "python",
   "pygments_lexer": "ipython3",
   "version": "3.11.4"
  }
 },
 "nbformat": 4,
 "nbformat_minor": 4
}
