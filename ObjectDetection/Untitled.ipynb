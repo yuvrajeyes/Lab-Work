{
 "cells": [
  {
   "cell_type": "code",
   "execution_count": 1,
   "metadata": {},
   "outputs": [],
   "source": [
    "import torch\n",
    "import torch.nn as nn\n",
    "\n",
    "x = torch.randn((2,2))\n",
    "y = torch.randn((2,1))"
   ]
  },
  {
   "cell_type": "code",
   "execution_count": 2,
   "metadata": {},
   "outputs": [
    {
     "data": {
      "text/plain": [
       "(tensor([[ 0.6912,  0.4010],\n",
       "         [-1.0397, -2.3720]]),\n",
       " tensor([[-0.6654],\n",
       "         [ 0.9965]]))"
      ]
     },
     "execution_count": 2,
     "metadata": {},
     "output_type": "execute_result"
    }
   ],
   "source": [
    "x, y"
   ]
  },
  {
   "cell_type": "code",
   "execution_count": 3,
   "metadata": {},
   "outputs": [
    {
     "data": {
      "text/plain": [
       "tensor([[ 0.6912,  0.4010, -0.6654],\n",
       "        [-1.0397, -2.3720,  0.9965]])"
      ]
     },
     "execution_count": 3,
     "metadata": {},
     "output_type": "execute_result"
    }
   ],
   "source": [
    "torch.cat((x,y), 1)"
   ]
  },
  {
   "cell_type": "code",
   "execution_count": 4,
   "metadata": {},
   "outputs": [
    {
     "data": {
      "text/plain": [
       "tensor([[ 0.4291,  1.1076,  1.7979, -0.5308]])"
      ]
     },
     "execution_count": 4,
     "metadata": {},
     "output_type": "execute_result"
    }
   ],
   "source": [
    "z = torch.randn((1, 4))\n",
    "z"
   ]
  },
  {
   "cell_type": "code",
   "execution_count": 8,
   "metadata": {},
   "outputs": [
    {
     "data": {
      "text/plain": [
       "tensor(1.1076)"
      ]
     },
     "execution_count": 8,
     "metadata": {},
     "output_type": "execute_result"
    }
   ],
   "source": [
    "z[0][-3]"
   ]
  },
  {
   "cell_type": "code",
   "execution_count": null,
   "metadata": {},
   "outputs": [],
   "source": []
  },
  {
   "cell_type": "code",
   "execution_count": null,
   "metadata": {},
   "outputs": [],
   "source": []
  },
  {
   "cell_type": "code",
   "execution_count": null,
   "metadata": {},
   "outputs": [],
   "source": []
  },
  {
   "cell_type": "code",
   "execution_count": null,
   "metadata": {},
   "outputs": [],
   "source": []
  },
  {
   "cell_type": "code",
   "execution_count": null,
   "metadata": {},
   "outputs": [],
   "source": []
  },
  {
   "cell_type": "markdown",
   "metadata": {},
   "source": [
    "##### train.py"
   ]
  },
  {
   "cell_type": "code",
   "execution_count": 31,
   "metadata": {
    "scrolled": true
   },
   "outputs": [],
   "source": [
    "import torch\n",
    "import torch.nn as nn\n",
    "\n",
    "class MyModel(nn.Module):\n",
    "    def __init__(self):\n",
    "        super(MyModel, self).__init__()\n",
    "        self.a = torch.randn(1)\n",
    "        self.register_buffer('b', torch.randn(1))\n",
    "        self.c = nn.Parameter(torch.randn(1))\n",
    "    \n",
    "    def forword(self, x):\n",
    "        return x\n",
    "    \n",
    "model = MyModel()"
   ]
  },
  {
   "cell_type": "code",
   "execution_count": 10,
   "metadata": {},
   "outputs": [
    {
     "data": {
      "text/plain": [
       "MyModel()"
      ]
     },
     "execution_count": 10,
     "metadata": {},
     "output_type": "execute_result"
    }
   ],
   "source": [
    "model.cuda()"
   ]
  },
  {
   "cell_type": "code",
   "execution_count": 32,
   "metadata": {
    "scrolled": true
   },
   "outputs": [
    {
     "name": "stdout",
     "output_type": "stream",
     "text": [
      "Parameter containing:\n",
      "tensor([0.5002], requires_grad=True)\n"
     ]
    }
   ],
   "source": [
    "for i in model.parameters():\n",
    "    print(i)"
   ]
  },
  {
   "cell_type": "code",
   "execution_count": 33,
   "metadata": {},
   "outputs": [
    {
     "data": {
      "text/plain": [
       "OrderedDict([('c', tensor([0.5002])), ('b', tensor([-0.1586]))])"
      ]
     },
     "execution_count": 33,
     "metadata": {},
     "output_type": "execute_result"
    }
   ],
   "source": [
    "model.state_dict()"
   ]
  },
  {
   "cell_type": "code",
   "execution_count": null,
   "metadata": {},
   "outputs": [],
   "source": []
  },
  {
   "cell_type": "code",
   "execution_count": null,
   "metadata": {},
   "outputs": [],
   "source": []
  },
  {
   "cell_type": "code",
   "execution_count": null,
   "metadata": {},
   "outputs": [],
   "source": [
    "#! /usr/bin/env python3\n",
    "\n",
    "from __future__ import division\n",
    "\n",
    "import os\n",
    "import argparse\n",
    "import tqdm\n",
    "\n",
    "import torch\n",
    "from torch.utils.data import DataLoader\n",
    "import torch.optim as optim\n",
    "\n",
    "########### from pytorchyolo.models import load_model\n",
    "########### from pytorchyolo.utils.logger import Logger\n",
    "########### from pytorchyolo.utils.utils import load_classes, print_environment_info, provide_determinism, worker_seed_set\n",
    "from pytorchyolo.utils.datasets import ListDataset\n",
    "########### from pytorchyolo.utils.augmentations import AUGMENTATION_TRANSFORMS\n",
    "# from pytorchyolo.utils.transforms import DEFAULT_TRANSFORMS\n",
    "########### from pytorchyolo.utils.parse_config import parse_data_config\n",
    "########### from pytorchyolo.utils.loss import compute_loss\n",
    "from pytorchyolo.test import _evaluate, _create_validation_data_loader\n",
    "\n",
    "from terminaltables import AsciiTable\n",
    "\n",
    "from torchsummary import summary\n",
    "\n",
    "\n",
    "def _create_data_loader(img_path, batch_size, img_size, n_cpu, multiscale_training=False):\n",
    "    \"\"\"Creates a DataLoader for training.\n",
    "\n",
    "    :param img_path: Path to file containing all paths to training images.\n",
    "    :type img_path: str\n",
    "    :param batch_size: Size of each image batch\n",
    "    :type batch_size: int\n",
    "    :param img_size: Size of each image dimension for yolo\n",
    "    :type img_size: int\n",
    "    :param n_cpu: Number of cpu threads to use during batch generation\n",
    "    :type n_cpu: int\n",
    "    :param multiscale_training: Scale images to different sizes randomly\n",
    "    :type multiscale_training: bool\n",
    "    :return: Returns DataLoader\n",
    "    :rtype: DataLoader\n",
    "    \"\"\"\n",
    "    dataset = ListDataset(\n",
    "        img_path,\n",
    "        img_size=img_size,\n",
    "        multiscale=multiscale_training,\n",
    "        transform=AUGMENTATION_TRANSFORMS)\n",
    "    dataloader = DataLoader(\n",
    "        dataset,\n",
    "        batch_size=batch_size,\n",
    "        shuffle=True,\n",
    "        num_workers=n_cpu,\n",
    "        pin_memory=True,\n",
    "        collate_fn=dataset.collate_fn,\n",
    "        worker_init_fn=worker_seed_set)\n",
    "    return dataloader\n",
    "\n",
    "\n",
    "def run():\n",
    "    print_environment_info()\n",
    "    parser = argparse.ArgumentParser(description=\"Trains the YOLO model.\")\n",
    "    parser.add_argument(\"-m\", \"--model\", type=str, default=\"config/yolov3.cfg\", help=\"Path to model definition file (.cfg)\")\n",
    "    parser.add_argument(\"-d\", \"--data\", type=str, default=\"config/coco.data\", help=\"Path to data config file (.data)\")\n",
    "    parser.add_argument(\"-e\", \"--epochs\", type=int, default=300, help=\"Number of epochs\")\n",
    "    parser.add_argument(\"-v\", \"--verbose\", action='store_true', help=\"Makes the training more verbose\")\n",
    "    parser.add_argument(\"--n_cpu\", type=int, default=8, help=\"Number of cpu threads to use during batch generation\")\n",
    "    parser.add_argument(\"--pretrained_weights\", type=str, help=\"Path to checkpoint file (.weights or .pth). Starts training from checkpoint model\")\n",
    "    parser.add_argument(\"--checkpoint_interval\", type=int, default=1, help=\"Interval of epochs between saving model weights\")\n",
    "    parser.add_argument(\"--evaluation_interval\", type=int, default=1, help=\"Interval of epochs between evaluations on validation set\")\n",
    "    parser.add_argument(\"--multiscale_training\", action=\"store_true\", help=\"Allow multi-scale training\")\n",
    "    parser.add_argument(\"--iou_thres\", type=float, default=0.5, help=\"Evaluation: IOU threshold required to qualify as detected\")\n",
    "    parser.add_argument(\"--conf_thres\", type=float, default=0.1, help=\"Evaluation: Object confidence threshold\")\n",
    "    parser.add_argument(\"--nms_thres\", type=float, default=0.5, help=\"Evaluation: IOU threshold for non-maximum suppression\")\n",
    "    parser.add_argument(\"--logdir\", type=str, default=\"logs\", help=\"Directory for training log files (e.g. for TensorBoard)\")\n",
    "    parser.add_argument(\"--seed\", type=int, default=-1, help=\"Makes results reproducable. Set -1 to disable.\")\n",
    "    args = parser.parse_args()\n",
    "    print(f\"Command line arguments: {args}\")\n",
    "\n",
    "    if args.seed != -1:\n",
    "        provide_determinism(args.seed)\n",
    "\n",
    "    logger = Logger(args.logdir)  # Tensorboard logger\n",
    "\n",
    "    # Create output directories if missing\n",
    "    os.makedirs(\"output\", exist_ok=True)\n",
    "    os.makedirs(\"checkpoints\", exist_ok=True)\n",
    "\n",
    "    # Get data configuration\n",
    "    data_config = parse_data_config(args.data)\n",
    "    train_path = data_config[\"train\"]\n",
    "    valid_path = data_config[\"valid\"]\n",
    "    class_names = load_classes(data_config[\"names\"])\n",
    "    device = torch.device(\"cuda\" if torch.cuda.is_available() else \"cpu\")\n",
    "\n",
    "    # ############\n",
    "    # Create model\n",
    "    # ############\n",
    "\n",
    "    model = load_model(args.model, args.pretrained_weights)\n",
    "\n",
    "    # Print model\n",
    "    if args.verbose:\n",
    "        summary(model, input_size=(3, model.hyperparams['height'], model.hyperparams['height']))\n",
    "\n",
    "    mini_batch_size = model.hyperparams['batch'] // model.hyperparams['subdivisions']\n",
    "\n",
    "    # #################\n",
    "    # Create Dataloader\n",
    "    # #################\n",
    "\n",
    "    # Load training dataloader\n",
    "    dataloader = _create_data_loader(\n",
    "        train_path,\n",
    "        mini_batch_size,\n",
    "        model.hyperparams['height'],\n",
    "        args.n_cpu,\n",
    "        args.multiscale_training)\n",
    "\n",
    "    # Load validation dataloader\n",
    "    validation_dataloader = _create_validation_data_loader(\n",
    "        valid_path,\n",
    "        mini_batch_size,\n",
    "        model.hyperparams['height'],\n",
    "        args.n_cpu)\n",
    "\n",
    "    # ################\n",
    "    # Create optimizer\n",
    "    # ################\n",
    "\n",
    "    params = [p for p in model.parameters() if p.requires_grad]\n",
    "\n",
    "    if (model.hyperparams['optimizer'] in [None, \"adam\"]):\n",
    "        optimizer = optim.Adam(\n",
    "            params,\n",
    "            lr=model.hyperparams['learning_rate'],\n",
    "            weight_decay=model.hyperparams['decay'],\n",
    "        )\n",
    "    elif (model.hyperparams['optimizer'] == \"sgd\"):\n",
    "        optimizer = optim.SGD(\n",
    "            params,\n",
    "            lr=model.hyperparams['learning_rate'],\n",
    "            weight_decay=model.hyperparams['decay'],\n",
    "            momentum=model.hyperparams['momentum'])\n",
    "    else:\n",
    "        print(\"Unknown optimizer. Please choose between (adam, sgd).\")\n",
    "\n",
    "    for epoch in range(args.epochs):\n",
    "\n",
    "        print(\"\\n---- Training Model ----\")\n",
    "\n",
    "        model.train()  # Set model to training mode\n",
    "\n",
    "        for batch_i, (_, imgs, targets) in enumerate(tqdm.tqdm(dataloader, desc=f\"Training Epoch {epoch}\")):\n",
    "            batches_done = len(dataloader) * epoch + batch_i\n",
    "\n",
    "            imgs = imgs.to(device, non_blocking=True)\n",
    "            targets = targets.to(device)\n",
    "\n",
    "            outputs = model(imgs)\n",
    "\n",
    "            loss, loss_components = compute_loss(outputs, targets, model)\n",
    "\n",
    "            loss.backward()\n",
    "\n",
    "            ###############\n",
    "            # Run optimizer\n",
    "            ###############\n",
    "\n",
    "            if batches_done % model.hyperparams['subdivisions'] == 0:\n",
    "                # Adapt learning rate\n",
    "                # Get learning rate defined in cfg\n",
    "                lr = model.hyperparams['learning_rate']\n",
    "                if batches_done < model.hyperparams['burn_in']:\n",
    "                    # Burn in\n",
    "                    lr *= (batches_done / model.hyperparams['burn_in'])\n",
    "                else:\n",
    "                    # Set and parse the learning rate to the steps defined in the cfg\n",
    "                    for threshold, value in model.hyperparams['lr_steps']:\n",
    "                        if batches_done > threshold:\n",
    "                            lr *= value\n",
    "                # Log the learning rate\n",
    "                logger.scalar_summary(\"train/learning_rate\", lr, batches_done)\n",
    "                # Set learning rate\n",
    "                for g in optimizer.param_groups:\n",
    "                    g['lr'] = lr\n",
    "\n",
    "                # Run optimizer\n",
    "                optimizer.step()\n",
    "                # Reset gradients\n",
    "                optimizer.zero_grad()\n",
    "\n",
    "            # ############\n",
    "            # Log progress\n",
    "            # ############\n",
    "            if args.verbose:\n",
    "                print(AsciiTable(\n",
    "                    [\n",
    "                        [\"Type\", \"Value\"],\n",
    "                        [\"IoU loss\", float(loss_components[0])],\n",
    "                        [\"Object loss\", float(loss_components[1])],\n",
    "                        [\"Class loss\", float(loss_components[2])],\n",
    "                        [\"Loss\", float(loss_components[3])],\n",
    "                        [\"Batch loss\", loss.detach().cpu().item()],\n",
    "                    ]).table)\n",
    "\n",
    "            # Tensorboard logging\n",
    "            tensorboard_log = [\n",
    "                (\"train/iou_loss\", float(loss_components[0])),\n",
    "                (\"train/obj_loss\", float(loss_components[1])),\n",
    "                (\"train/class_loss\", float(loss_components[2])),\n",
    "                (\"train/loss\", loss.detach().cpu().item())]\n",
    "            logger.list_of_scalars_summary(tensorboard_log, batches_done)\n",
    "\n",
    "            model.seen += imgs.size(0)\n",
    "\n",
    "        # #############\n",
    "        # Save progress\n",
    "        # #############\n",
    "\n",
    "        # Save model to checkpoint file\n",
    "        if epoch % args.checkpoint_interval == 0:\n",
    "            checkpoint_path = f\"checkpoints/yolov3_ckpt_{epoch}.pth\"\n",
    "            print(f\"---- Saving checkpoint to: '{checkpoint_path}' ----\")\n",
    "            torch.save(model.state_dict(), checkpoint_path)\n",
    "\n",
    "        # ########\n",
    "        # Evaluate\n",
    "        # ########\n",
    "\n",
    "        if epoch % args.evaluation_interval == 0:\n",
    "            print(\"\\n---- Evaluating Model ----\")\n",
    "            # Evaluate the model on the validation set\n",
    "            metrics_output = _evaluate(\n",
    "                model,\n",
    "                validation_dataloader,\n",
    "                class_names,\n",
    "                img_size=model.hyperparams['height'],\n",
    "                iou_thres=args.iou_thres,\n",
    "                conf_thres=args.conf_thres,\n",
    "                nms_thres=args.nms_thres,\n",
    "                verbose=args.verbose\n",
    "            )\n",
    "\n",
    "            if metrics_output is not None:\n",
    "                precision, recall, AP, f1, ap_class = metrics_output\n",
    "                evaluation_metrics = [\n",
    "                    (\"validation/precision\", precision.mean()),\n",
    "                    (\"validation/recall\", recall.mean()),\n",
    "                    (\"validation/mAP\", AP.mean()),\n",
    "                    (\"validation/f1\", f1.mean())]\n",
    "                logger.list_of_scalars_summary(evaluation_metrics, epoch)\n",
    "\n",
    "\n",
    "if __name__ == \"__main__\":\n",
    "    # run()"
   ]
  }
 ],
 "metadata": {
  "kernelspec": {
   "display_name": "dl",
   "language": "python",
   "name": "dl"
  },
  "language_info": {
   "codemirror_mode": {
    "name": "ipython",
    "version": 3
   },
   "file_extension": ".py",
   "mimetype": "text/x-python",
   "name": "python",
   "nbconvert_exporter": "python",
   "pygments_lexer": "ipython3",
   "version": "3.7.0"
  }
 },
 "nbformat": 4,
 "nbformat_minor": 4
}
